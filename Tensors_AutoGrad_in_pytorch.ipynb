{
  "nbformat": 4,
  "nbformat_minor": 0,
  "metadata": {
    "colab": {
      "provenance": [],
      "gpuType": "T4",
      "authorship_tag": "ABX9TyMMsxAaQUBg4any15bOjLYS",
      "include_colab_link": true
    },
    "kernelspec": {
      "name": "python3",
      "display_name": "Python 3"
    },
    "language_info": {
      "name": "python"
    },
    "accelerator": "GPU",
    "gpuClass": "standard"
  },
  "cells": [
    {
      "cell_type": "markdown",
      "metadata": {
        "id": "view-in-github",
        "colab_type": "text"
      },
      "source": [
        "<a href=\"https://colab.research.google.com/github/Ezzaldin97/pytorch-coding/blob/main/Tensors_AutoGrad_in_pytorch.ipynb\" target=\"_parent\"><img src=\"https://colab.research.google.com/assets/colab-badge.svg\" alt=\"Open In Colab\"/></a>"
      ]
    },
    {
      "cell_type": "code",
      "execution_count": 1,
      "metadata": {
        "colab": {
          "base_uri": "https://localhost:8080/",
          "height": 35
        },
        "id": "ZTJyyJRvHcPQ",
        "outputId": "06afc4fb-c4b2-4b2f-de83-897f3b2993c7"
      },
      "outputs": [
        {
          "output_type": "execute_result",
          "data": {
            "text/plain": [
              "'2.0.0+cu118'"
            ],
            "application/vnd.google.colaboratory.intrinsic+json": {
              "type": "string"
            }
          },
          "metadata": {},
          "execution_count": 1
        }
      ],
      "source": [
        "import numpy as np\n",
        "import torch\n",
        "import torchvision\n",
        "\n",
        "torch.__version__"
      ]
    },
    {
      "cell_type": "code",
      "source": [
        "# checking if GPU exist-->if exist assign device to GPU else CPU...\n",
        "# here we don't have GPUs so all operation by default will be on CPU\n",
        "# default operations run on CPU\n",
        "# we don't need to move tensors to GPU as it does't exist..\n",
        "device = torch.device(\"cuda\") if torch.cuda.is_available() else torch.device(\"cpu\")\n",
        "# decide here the precision of digits..\n",
        "torch.set_printoptions(precision=5)\n",
        "device"
      ],
      "metadata": {
        "colab": {
          "base_uri": "https://localhost:8080/"
        },
        "id": "8XdCIkyIIGSy",
        "outputId": "0944563e-83ad-4483-9928-2adbfbf88cf1"
      },
      "execution_count": 2,
      "outputs": [
        {
          "output_type": "execute_result",
          "data": {
            "text/plain": [
              "device(type='cpu')"
            ]
          },
          "metadata": {},
          "execution_count": 2
        }
      ]
    },
    {
      "cell_type": "code",
      "source": [
        "empty_tensor = torch.empty(size = (2,2), dtype = torch.float32)\n",
        "print(empty_tensor.size())\n",
        "print(empty_tensor)\n",
        "print(empty_tensor.dtype)"
      ],
      "metadata": {
        "colab": {
          "base_uri": "https://localhost:8080/"
        },
        "id": "Ks582X26Ib5B",
        "outputId": "2638ece1-351b-4dfd-f59d-0b1682546b9f"
      },
      "execution_count": 3,
      "outputs": [
        {
          "output_type": "stream",
          "name": "stdout",
          "text": [
            "torch.Size([2, 2])\n",
            "tensor([[8.35276e-03, 2.89576e+32],\n",
            "        [3.49703e-38, 1.01412e+31]])\n",
            "torch.float32\n"
          ]
        }
      ]
    },
    {
      "cell_type": "code",
      "source": [
        "# create random tensor..\n",
        "random_tensor = torch.randn(size = (2,3), dtype=torch.float16)\n",
        "print(random_tensor.size())\n",
        "print(random_tensor)\n",
        "print(random_tensor.dtype)"
      ],
      "metadata": {
        "colab": {
          "base_uri": "https://localhost:8080/"
        },
        "id": "eWpHl2ZzIfk5",
        "outputId": "5a4d9b7a-470d-4691-cb86-88f85da9c4e9"
      },
      "execution_count": 4,
      "outputs": [
        {
          "output_type": "stream",
          "name": "stdout",
          "text": [
            "torch.Size([2, 3])\n",
            "tensor([[ 0.01910,  0.62402, -0.64648],\n",
            "        [ 0.18530,  1.19434, -0.85498]], dtype=torch.float16)\n",
            "torch.float16\n"
          ]
        }
      ]
    },
    {
      "cell_type": "code",
      "source": [
        "# converting torch tensor to numpy array.. \n",
        "random_arr = random_tensor.numpy()\n",
        "type(random_arr)"
      ],
      "metadata": {
        "colab": {
          "base_uri": "https://localhost:8080/"
        },
        "id": "wTHY1xmqIl26",
        "outputId": "f27ca04f-62da-499f-f237-e3aa7434c8de"
      },
      "execution_count": 5,
      "outputs": [
        {
          "output_type": "execute_result",
          "data": {
            "text/plain": [
              "numpy.ndarray"
            ]
          },
          "metadata": {},
          "execution_count": 5
        }
      ]
    },
    {
      "cell_type": "code",
      "source": [
        "# becareful here of shared memory when converting tensor to numpy array, or vice versa \n",
        "# change something in one of them, change the other as well....\n",
        "random_arr"
      ],
      "metadata": {
        "colab": {
          "base_uri": "https://localhost:8080/"
        },
        "id": "HfYB98MCIpNQ",
        "outputId": "34b1cc78-3509-47a2-b344-9fea6b2eee94"
      },
      "execution_count": 6,
      "outputs": [
        {
          "output_type": "execute_result",
          "data": {
            "text/plain": [
              "array([[ 0.0191,  0.624 , -0.6465],\n",
              "       [ 0.1853,  1.194 , -0.855 ]], dtype=float16)"
            ]
          },
          "metadata": {},
          "execution_count": 6
        }
      ]
    },
    {
      "cell_type": "code",
      "source": [
        "ones_arr = np.ones(5)\n",
        "print(ones_arr.shape)\n",
        "print(ones_arr)"
      ],
      "metadata": {
        "colab": {
          "base_uri": "https://localhost:8080/"
        },
        "id": "DzWmrjKyI0uU",
        "outputId": "9703413d-7627-4002-f08e-f0f9a4e865a6"
      },
      "execution_count": 7,
      "outputs": [
        {
          "output_type": "stream",
          "name": "stdout",
          "text": [
            "(5,)\n",
            "[1. 1. 1. 1. 1.]\n"
          ]
        }
      ]
    },
    {
      "cell_type": "code",
      "source": [
        "# convert numpy array to torch tensor..\n",
        "ones_tensor = torch.from_numpy(ones_arr)\n",
        "ones_tensor"
      ],
      "metadata": {
        "colab": {
          "base_uri": "https://localhost:8080/"
        },
        "id": "DZD6jXrLI4iR",
        "outputId": "f246d6f8-c653-42e2-e6af-ef8a790b0054"
      },
      "execution_count": 8,
      "outputs": [
        {
          "output_type": "execute_result",
          "data": {
            "text/plain": [
              "tensor([1., 1., 1., 1., 1.], dtype=torch.float64)"
            ]
          },
          "metadata": {},
          "execution_count": 8
        }
      ]
    },
    {
      "cell_type": "code",
      "source": [
        "ones_arr[0] = 5\n",
        "# shared memory again..\n",
        "ones_tensor"
      ],
      "metadata": {
        "colab": {
          "base_uri": "https://localhost:8080/"
        },
        "id": "IQ5FewirI76-",
        "outputId": "1d987782-7a0b-4328-c660-03652aa95dc2"
      },
      "execution_count": 9,
      "outputs": [
        {
          "output_type": "execute_result",
          "data": {
            "text/plain": [
              "tensor([5., 1., 1., 1., 1.], dtype=torch.float64)"
            ]
          },
          "metadata": {},
          "execution_count": 9
        }
      ]
    },
    {
      "cell_type": "code",
      "source": [
        "# in-place modification \n",
        "tensor1 = torch.randn((1,4))\n",
        "tensor1"
      ],
      "metadata": {
        "colab": {
          "base_uri": "https://localhost:8080/"
        },
        "id": "v-gCfVj3JCxz",
        "outputId": "c110ccad-9c08-4812-f7d9-ab9653499224"
      },
      "execution_count": 10,
      "outputs": [
        {
          "output_type": "execute_result",
          "data": {
            "text/plain": [
              "tensor([[-0.51564, -0.66723, -0.71623,  0.49457]])"
            ]
          },
          "metadata": {},
          "execution_count": 10
        }
      ]
    },
    {
      "cell_type": "code",
      "source": [
        "# let's transpose tensor1\n",
        "tensor1.t()"
      ],
      "metadata": {
        "colab": {
          "base_uri": "https://localhost:8080/"
        },
        "id": "7o9l-3jcJJt3",
        "outputId": "abe7061f-bfb8-4254-a823-6d9724bb58f4"
      },
      "execution_count": 11,
      "outputs": [
        {
          "output_type": "execute_result",
          "data": {
            "text/plain": [
              "tensor([[-0.51564],\n",
              "        [-0.66723],\n",
              "        [-0.71623],\n",
              "        [ 0.49457]])"
            ]
          },
          "metadata": {},
          "execution_count": 11
        }
      ]
    },
    {
      "cell_type": "code",
      "source": [
        "# let's transpose again and modify without assignment..\n",
        "tensor1.t_()"
      ],
      "metadata": {
        "colab": {
          "base_uri": "https://localhost:8080/"
        },
        "id": "rx75qi4iJOuM",
        "outputId": "4349736c-553e-4cbb-9003-23d5c4a2f4e0"
      },
      "execution_count": 12,
      "outputs": [
        {
          "output_type": "execute_result",
          "data": {
            "text/plain": [
              "tensor([[-0.51564],\n",
              "        [-0.66723],\n",
              "        [-0.71623],\n",
              "        [ 0.49457]])"
            ]
          },
          "metadata": {},
          "execution_count": 12
        }
      ]
    },
    {
      "cell_type": "code",
      "source": [
        "tensor1"
      ],
      "metadata": {
        "colab": {
          "base_uri": "https://localhost:8080/"
        },
        "id": "N6M_RPHQJRxW",
        "outputId": "7704fff9-4a1e-4fd1-cbd5-0f9c7e849998"
      },
      "execution_count": 13,
      "outputs": [
        {
          "output_type": "execute_result",
          "data": {
            "text/plain": [
              "tensor([[-0.51564],\n",
              "        [-0.66723],\n",
              "        [-0.71623],\n",
              "        [ 0.49457]])"
            ]
          },
          "metadata": {},
          "execution_count": 13
        }
      ]
    },
    {
      "cell_type": "code",
      "source": [
        "# add three to all of elements and modify tensor1...\n",
        "tensor1.add_(3)"
      ],
      "metadata": {
        "colab": {
          "base_uri": "https://localhost:8080/"
        },
        "id": "mG264DtgJUhn",
        "outputId": "c37cb8ea-ed89-4f09-ab67-20d2f055f01d"
      },
      "execution_count": 14,
      "outputs": [
        {
          "output_type": "execute_result",
          "data": {
            "text/plain": [
              "tensor([[2.48436],\n",
              "        [2.33277],\n",
              "        [2.28377],\n",
              "        [3.49457]])"
            ]
          },
          "metadata": {},
          "execution_count": 14
        }
      ]
    },
    {
      "cell_type": "code",
      "source": [
        "# tensor1 in CPU... \n",
        "tensor1.device"
      ],
      "metadata": {
        "colab": {
          "base_uri": "https://localhost:8080/"
        },
        "id": "wu8YU-o-JYM2",
        "outputId": "b13e4cf5-e19e-456c-a698-0ed3efb90be9"
      },
      "execution_count": 15,
      "outputs": [
        {
          "output_type": "execute_result",
          "data": {
            "text/plain": [
              "device(type='cpu')"
            ]
          },
          "metadata": {},
          "execution_count": 15
        }
      ]
    },
    {
      "cell_type": "code",
      "source": [
        "# We will use ``torch.device`` objects to move tensors in and out of GPU\n",
        "# if cuda exist remove tensor to GPU..\n",
        "tensor1 = tensor1.to(device)\n",
        "tensor1.device"
      ],
      "metadata": {
        "colab": {
          "base_uri": "https://localhost:8080/"
        },
        "id": "9KtCwC_uJa9K",
        "outputId": "ece52854-5ab5-41b1-9138-ba073d881bde"
      },
      "execution_count": 16,
      "outputs": [
        {
          "output_type": "execute_result",
          "data": {
            "text/plain": [
              "device(type='cpu')"
            ]
          },
          "metadata": {},
          "execution_count": 16
        }
      ]
    },
    {
      "cell_type": "code",
      "source": [
        "tensor1 = tensor1.to(\"cpu\")\n",
        "tensor1.device"
      ],
      "metadata": {
        "colab": {
          "base_uri": "https://localhost:8080/"
        },
        "id": "RRc6J4LULEXi",
        "outputId": "21877378-a54a-4301-f53c-8a8c8bb81a11"
      },
      "execution_count": 17,
      "outputs": [
        {
          "output_type": "execute_result",
          "data": {
            "text/plain": [
              "device(type='cpu')"
            ]
          },
          "metadata": {},
          "execution_count": 17
        }
      ]
    },
    {
      "cell_type": "code",
      "source": [
        "data_dir = './data'\n",
        "cifar = torchvision.datasets.CIFAR10(data_dir, train = True, download = True)\n",
        "cifar.data.shape"
      ],
      "metadata": {
        "colab": {
          "base_uri": "https://localhost:8080/"
        },
        "id": "hb2DpXAaLbic",
        "outputId": "131879b2-a2e4-424a-f513-fc8ef4fedbe4"
      },
      "execution_count": 18,
      "outputs": [
        {
          "output_type": "stream",
          "name": "stdout",
          "text": [
            "Downloading https://www.cs.toronto.edu/~kriz/cifar-10-python.tar.gz to ./data/cifar-10-python.tar.gz\n"
          ]
        },
        {
          "output_type": "stream",
          "name": "stderr",
          "text": [
            "100%|██████████| 170498071/170498071 [00:02<00:00, 78960200.31it/s]\n"
          ]
        },
        {
          "output_type": "stream",
          "name": "stdout",
          "text": [
            "Extracting ./data/cifar-10-python.tar.gz to ./data\n"
          ]
        },
        {
          "output_type": "execute_result",
          "data": {
            "text/plain": [
              "(50000, 32, 32, 3)"
            ]
          },
          "metadata": {},
          "execution_count": 18
        }
      ]
    },
    {
      "cell_type": "code",
      "source": [
        "# now we have 50000 images with 32 by 32 pixels (width, height) and 3 channels(r, b, g)\n",
        "# use permute to change dimension of data.\n",
        "# cifar data is numpy ndarray...\n",
        "type(cifar.data[0])"
      ],
      "metadata": {
        "colab": {
          "base_uri": "https://localhost:8080/"
        },
        "id": "uQQCi4h8Lr5J",
        "outputId": "276aee88-c2d0-45b7-c957-79f8a1e35280"
      },
      "execution_count": 19,
      "outputs": [
        {
          "output_type": "execute_result",
          "data": {
            "text/plain": [
              "numpy.ndarray"
            ]
          },
          "metadata": {},
          "execution_count": 19
        }
      ]
    },
    {
      "cell_type": "code",
      "source": [
        "# convert array to torch tensors..\n",
        "X = torch.from_numpy(cifar.data).permute(0, 3, 1, 2).float()\n",
        "X = X / 255.\n",
        "print(X.type(), X.size(), X.min().item(), X.max().item())"
      ],
      "metadata": {
        "colab": {
          "base_uri": "https://localhost:8080/"
        },
        "id": "5cihedE0MOvd",
        "outputId": "d3695fdc-c3b0-4ccb-c5e3-e1a2e9e8dc16"
      },
      "execution_count": 20,
      "outputs": [
        {
          "output_type": "stream",
          "name": "stdout",
          "text": [
            "torch.FloatTensor torch.Size([50000, 3, 32, 32]) 0.0 1.0\n"
          ]
        }
      ]
    },
    {
      "cell_type": "code",
      "source": [
        "# by default requires grad parameter is set to false, which means in computation graph no gradient will be built with respect to this graph\n",
        "# during the computation.\n",
        "# set the requires grad parameter to True to compute gradient automatically when computing the graph... \n",
        "w = torch.tensor([0.5], requires_grad = True)\n",
        "b = torch.tensor([2.0], requires_grad=True)\n",
        "xx = torch.tensor([0.5], requires_grad=True)"
      ],
      "metadata": {
        "id": "q1EYtxU7NZPC"
      },
      "execution_count": 21,
      "outputs": []
    },
    {
      "cell_type": "code",
      "source": [
        "xx.requires_grad"
      ],
      "metadata": {
        "colab": {
          "base_uri": "https://localhost:8080/"
        },
        "id": "JzI9hN5iq1tj",
        "outputId": "89a51a25-ccd6-448c-e2c5-199ae5de0ba7"
      },
      "execution_count": 22,
      "outputs": [
        {
          "output_type": "execute_result",
          "data": {
            "text/plain": [
              "True"
            ]
          },
          "metadata": {},
          "execution_count": 22
        }
      ]
    },
    {
      "cell_type": "code",
      "source": [
        "def loss_func(x, y, weight, b):\n",
        "  y_hat = torch.exp(weight*x+b)\n",
        "  print(y_hat)\n",
        "  return torch.sum((y_hat-y)**2)"
      ],
      "metadata": {
        "id": "eL44qwVcq8Bm"
      },
      "execution_count": 23,
      "outputs": []
    },
    {
      "cell_type": "code",
      "source": [
        "ystar = torch.randn_like(xx)\n",
        "l = loss_func(xx, ystar, w, b)"
      ],
      "metadata": {
        "colab": {
          "base_uri": "https://localhost:8080/"
        },
        "id": "IVdzT7tptGTH",
        "outputId": "a722bfba-424b-4989-de97-d7aa621a7c7a"
      },
      "execution_count": 24,
      "outputs": [
        {
          "output_type": "stream",
          "name": "stdout",
          "text": [
            "tensor([9.48774], grad_fn=<ExpBackward0>)\n"
          ]
        }
      ]
    },
    {
      "cell_type": "code",
      "source": [
        "l"
      ],
      "metadata": {
        "colab": {
          "base_uri": "https://localhost:8080/"
        },
        "id": "Zk4WWl_xtevP",
        "outputId": "3d5ac9e3-0cfb-4da6-dfcd-846b31404937"
      },
      "execution_count": 25,
      "outputs": [
        {
          "output_type": "execute_result",
          "data": {
            "text/plain": [
              "tensor(81.05015, grad_fn=<SumBackward0>)"
            ]
          },
          "metadata": {},
          "execution_count": 25
        }
      ]
    },
    {
      "cell_type": "code",
      "source": [
        "l.requires_grad"
      ],
      "metadata": {
        "colab": {
          "base_uri": "https://localhost:8080/"
        },
        "id": "C4Yg217otpEx",
        "outputId": "1c88ab9d-f033-43ec-a0b0-c2b067554f4c"
      },
      "execution_count": 26,
      "outputs": [
        {
          "output_type": "execute_result",
          "data": {
            "text/plain": [
              "True"
            ]
          },
          "metadata": {},
          "execution_count": 26
        }
      ]
    },
    {
      "cell_type": "code",
      "source": [
        "# here nothing calculated yet because we must compute the backward path first....\n",
        "print(w.grad)"
      ],
      "metadata": {
        "colab": {
          "base_uri": "https://localhost:8080/"
        },
        "id": "ADISz80_ttuU",
        "outputId": "a9f37aac-20c1-468e-eefd-0fed7ffcf3c8"
      },
      "execution_count": 27,
      "outputs": [
        {
          "output_type": "stream",
          "name": "stdout",
          "text": [
            "None\n"
          ]
        }
      ]
    },
    {
      "cell_type": "code",
      "source": [
        "l.backward(retain_graph=True)"
      ],
      "metadata": {
        "id": "vbSesWSYt4ZL"
      },
      "execution_count": 28,
      "outputs": []
    },
    {
      "cell_type": "code",
      "source": [
        "print(xx.grad)\n",
        "print(w.grad)"
      ],
      "metadata": {
        "colab": {
          "base_uri": "https://localhost:8080/"
        },
        "id": "kOKFEYcouLm5",
        "outputId": "bde51244-d6a0-415f-bd6d-40b6a1043e74"
      },
      "execution_count": 29,
      "outputs": [
        {
          "output_type": "stream",
          "name": "stdout",
          "text": [
            "tensor([85.41605])\n",
            "tensor([85.41605])\n"
          ]
        }
      ]
    },
    {
      "cell_type": "code",
      "source": [
        "# if we call backward method for the second time it accumulates the gradient..\n",
        "# backward deletes the computational graph when it is used so that you will get an error below\n",
        "# you must retain the computational graph..\n",
        "l.backward(retain_graph=True)\n",
        "print(xx.grad)\n",
        "print(w.grad)"
      ],
      "metadata": {
        "colab": {
          "base_uri": "https://localhost:8080/"
        },
        "id": "VHCpN5GTuPmn",
        "outputId": "bb33a364-f4f7-4adf-daea-43f29beba6ca"
      },
      "execution_count": 30,
      "outputs": [
        {
          "output_type": "stream",
          "name": "stdout",
          "text": [
            "tensor([170.83211])\n",
            "tensor([170.83211])\n"
          ]
        }
      ]
    },
    {
      "cell_type": "code",
      "source": [
        "# grads must manually set to zeros.\n",
        "xx.data.zero_()\n",
        "w.data.zero_()\n",
        "b.data.zero_()"
      ],
      "metadata": {
        "colab": {
          "base_uri": "https://localhost:8080/"
        },
        "id": "m2Ebxt-TviNM",
        "outputId": "fa500208-9b7f-408f-af2f-5880792eadc9"
      },
      "execution_count": 31,
      "outputs": [
        {
          "output_type": "execute_result",
          "data": {
            "text/plain": [
              "tensor([0.])"
            ]
          },
          "metadata": {},
          "execution_count": 31
        }
      ]
    },
    {
      "cell_type": "code",
      "source": [
        "l.backward(retain_graph=True)"
      ],
      "metadata": {
        "id": "c7ELJkBdx4fp"
      },
      "execution_count": 32,
      "outputs": []
    },
    {
      "cell_type": "code",
      "source": [
        "l.backward()\n",
        "print(xx.grad)\n",
        "print(w.grad)"
      ],
      "metadata": {
        "id": "F3_EGKE0yCGl",
        "outputId": "b41c7a2a-8556-49a8-fc31-5a92bd706249",
        "colab": {
          "base_uri": "https://localhost:8080/"
        }
      },
      "execution_count": 34,
      "outputs": [
        {
          "output_type": "stream",
          "name": "stdout",
          "text": [
            "tensor([170.83211])\n",
            "tensor([170.83211])\n"
          ]
        }
      ]
    },
    {
      "cell_type": "code",
      "source": [],
      "metadata": {
        "id": "Zh9CDtzRyEPc"
      },
      "execution_count": null,
      "outputs": []
    }
  ]
}