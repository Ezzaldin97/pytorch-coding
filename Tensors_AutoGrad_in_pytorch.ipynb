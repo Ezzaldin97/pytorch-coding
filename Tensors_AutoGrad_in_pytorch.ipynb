{
  "nbformat": 4,
  "nbformat_minor": 0,
  "metadata": {
    "colab": {
      "provenance": [],
      "gpuType": "T4",
      "authorship_tag": "ABX9TyMSCwScmqIs48qrtbWgKx27",
      "include_colab_link": true
    },
    "kernelspec": {
      "name": "python3",
      "display_name": "Python 3"
    },
    "language_info": {
      "name": "python"
    },
    "accelerator": "GPU",
    "gpuClass": "standard"
  },
  "cells": [
    {
      "cell_type": "markdown",
      "metadata": {
        "id": "view-in-github",
        "colab_type": "text"
      },
      "source": [
        "<a href=\"https://colab.research.google.com/github/Ezzaldin97/pytorch-coding/blob/main/Tensors_AutoGrad_in_pytorch.ipynb\" target=\"_parent\"><img src=\"https://colab.research.google.com/assets/colab-badge.svg\" alt=\"Open In Colab\"/></a>"
      ]
    },
    {
      "cell_type": "code",
      "execution_count": 1,
      "metadata": {
        "colab": {
          "base_uri": "https://localhost:8080/",
          "height": 35
        },
        "id": "ZTJyyJRvHcPQ",
        "outputId": "a075d4c8-6eb6-4565-dbd7-4053d8f854a3"
      },
      "outputs": [
        {
          "output_type": "execute_result",
          "data": {
            "text/plain": [
              "'2.0.0+cu118'"
            ],
            "application/vnd.google.colaboratory.intrinsic+json": {
              "type": "string"
            }
          },
          "metadata": {},
          "execution_count": 1
        }
      ],
      "source": [
        "import numpy as np\n",
        "import torch\n",
        "import torchvision\n",
        "\n",
        "torch.__version__"
      ]
    },
    {
      "cell_type": "code",
      "source": [
        "# checking if GPU exist-->if exist assign device to GPU else CPU...\n",
        "# here we don't have GPUs so all operation by default will be on CPU\n",
        "# default operations run on CPU\n",
        "# we don't need to move tensors to GPU as it does't exist..\n",
        "device = torch.device(\"cuda\") if torch.cuda.is_available() else torch.device(\"cpu\")\n",
        "# decide here the precision of digits..\n",
        "torch.set_printoptions(precision=5)\n",
        "device"
      ],
      "metadata": {
        "colab": {
          "base_uri": "https://localhost:8080/"
        },
        "id": "8XdCIkyIIGSy",
        "outputId": "892737cc-1f94-41bf-f9a5-74dcc1bad014"
      },
      "execution_count": 2,
      "outputs": [
        {
          "output_type": "execute_result",
          "data": {
            "text/plain": [
              "device(type='cuda')"
            ]
          },
          "metadata": {},
          "execution_count": 2
        }
      ]
    },
    {
      "cell_type": "code",
      "source": [
        "empty_tensor = torch.empty(size = (2,2), dtype = torch.float32)\n",
        "print(empty_tensor.size())\n",
        "print(empty_tensor)\n",
        "print(empty_tensor.dtype)"
      ],
      "metadata": {
        "colab": {
          "base_uri": "https://localhost:8080/"
        },
        "id": "Ks582X26Ib5B",
        "outputId": "b1c22762-af37-4ed5-dcfd-039c8ddae1ef"
      },
      "execution_count": 3,
      "outputs": [
        {
          "output_type": "stream",
          "name": "stdout",
          "text": [
            "torch.Size([2, 2])\n",
            "tensor([[0., 0.],\n",
            "        [0., 0.]])\n",
            "torch.float32\n"
          ]
        }
      ]
    },
    {
      "cell_type": "code",
      "source": [
        "# create random tensor..\n",
        "random_tensor = torch.randn(size = (2,3), dtype=torch.float16)\n",
        "print(random_tensor.size())\n",
        "print(random_tensor)\n",
        "print(random_tensor.dtype)"
      ],
      "metadata": {
        "colab": {
          "base_uri": "https://localhost:8080/"
        },
        "id": "eWpHl2ZzIfk5",
        "outputId": "88e39870-a018-4f3c-efcc-555c0cbefd40"
      },
      "execution_count": 4,
      "outputs": [
        {
          "output_type": "stream",
          "name": "stdout",
          "text": [
            "torch.Size([2, 3])\n",
            "tensor([[ 0.17761, -1.06445, -0.52734],\n",
            "        [ 0.74805,  0.20837, -1.62695]], dtype=torch.float16)\n",
            "torch.float16\n"
          ]
        }
      ]
    },
    {
      "cell_type": "code",
      "source": [
        "# converting torch tensor to numpy array.. \n",
        "random_arr = random_tensor.numpy()\n",
        "type(random_arr)"
      ],
      "metadata": {
        "colab": {
          "base_uri": "https://localhost:8080/"
        },
        "id": "wTHY1xmqIl26",
        "outputId": "b60dcb37-1d32-49dd-bda1-2c7d19d2506c"
      },
      "execution_count": 5,
      "outputs": [
        {
          "output_type": "execute_result",
          "data": {
            "text/plain": [
              "numpy.ndarray"
            ]
          },
          "metadata": {},
          "execution_count": 5
        }
      ]
    },
    {
      "cell_type": "code",
      "source": [
        "# becareful here of shared memory when converting tensor to numpy array, or vice versa \n",
        "# change something in one of them, change the other as well....\n",
        "random_arr"
      ],
      "metadata": {
        "colab": {
          "base_uri": "https://localhost:8080/"
        },
        "id": "HfYB98MCIpNQ",
        "outputId": "c9090753-a79c-4ce5-d5aa-bee575b6ccc8"
      },
      "execution_count": 6,
      "outputs": [
        {
          "output_type": "execute_result",
          "data": {
            "text/plain": [
              "array([[ 0.1776, -1.064 , -0.5273],\n",
              "       [ 0.748 ,  0.2084, -1.627 ]], dtype=float16)"
            ]
          },
          "metadata": {},
          "execution_count": 6
        }
      ]
    },
    {
      "cell_type": "code",
      "source": [
        "ones_arr = np.ones(5)\n",
        "print(ones_arr.shape)\n",
        "print(ones_arr)"
      ],
      "metadata": {
        "colab": {
          "base_uri": "https://localhost:8080/"
        },
        "id": "DzWmrjKyI0uU",
        "outputId": "c4a807a2-1078-4de5-8330-485990dddfd0"
      },
      "execution_count": 7,
      "outputs": [
        {
          "output_type": "stream",
          "name": "stdout",
          "text": [
            "(5,)\n",
            "[1. 1. 1. 1. 1.]\n"
          ]
        }
      ]
    },
    {
      "cell_type": "code",
      "source": [
        "# convert numpy array to torch tensor..\n",
        "ones_tensor = torch.from_numpy(ones_arr)\n",
        "ones_tensor"
      ],
      "metadata": {
        "colab": {
          "base_uri": "https://localhost:8080/"
        },
        "id": "DZD6jXrLI4iR",
        "outputId": "37b01cb5-f746-4f17-acdc-bdb3741af9a4"
      },
      "execution_count": 8,
      "outputs": [
        {
          "output_type": "execute_result",
          "data": {
            "text/plain": [
              "tensor([1., 1., 1., 1., 1.], dtype=torch.float64)"
            ]
          },
          "metadata": {},
          "execution_count": 8
        }
      ]
    },
    {
      "cell_type": "code",
      "source": [
        "ones_arr[0] = 5\n",
        "# shared memory again..\n",
        "ones_tensor"
      ],
      "metadata": {
        "colab": {
          "base_uri": "https://localhost:8080/"
        },
        "id": "IQ5FewirI76-",
        "outputId": "98c98f41-49aa-4bac-964d-2b55699c1726"
      },
      "execution_count": 9,
      "outputs": [
        {
          "output_type": "execute_result",
          "data": {
            "text/plain": [
              "tensor([5., 1., 1., 1., 1.], dtype=torch.float64)"
            ]
          },
          "metadata": {},
          "execution_count": 9
        }
      ]
    },
    {
      "cell_type": "code",
      "source": [
        "# in-place modification \n",
        "tensor1 = torch.randn((1,4))\n",
        "tensor1"
      ],
      "metadata": {
        "colab": {
          "base_uri": "https://localhost:8080/"
        },
        "id": "v-gCfVj3JCxz",
        "outputId": "819b705a-661e-483a-d9cc-4cbee23577ff"
      },
      "execution_count": 12,
      "outputs": [
        {
          "output_type": "execute_result",
          "data": {
            "text/plain": [
              "tensor([[ 0.54335, -0.91202, -1.11142,  0.68659]])"
            ]
          },
          "metadata": {},
          "execution_count": 12
        }
      ]
    },
    {
      "cell_type": "code",
      "source": [
        "# let's transpose tensor1\n",
        "tensor1.t()"
      ],
      "metadata": {
        "colab": {
          "base_uri": "https://localhost:8080/"
        },
        "id": "7o9l-3jcJJt3",
        "outputId": "114a8f7f-0a14-4fab-aa8a-1d0050a5d40c"
      },
      "execution_count": 13,
      "outputs": [
        {
          "output_type": "execute_result",
          "data": {
            "text/plain": [
              "tensor([[ 0.54335],\n",
              "        [-0.91202],\n",
              "        [-1.11142],\n",
              "        [ 0.68659]])"
            ]
          },
          "metadata": {},
          "execution_count": 13
        }
      ]
    },
    {
      "cell_type": "code",
      "source": [
        "# let's transpose again and modify without assignment..\n",
        "tensor1.t_()"
      ],
      "metadata": {
        "colab": {
          "base_uri": "https://localhost:8080/"
        },
        "id": "rx75qi4iJOuM",
        "outputId": "58d0598c-7a13-428c-b33f-065d86af047a"
      },
      "execution_count": 14,
      "outputs": [
        {
          "output_type": "execute_result",
          "data": {
            "text/plain": [
              "tensor([[ 0.54335],\n",
              "        [-0.91202],\n",
              "        [-1.11142],\n",
              "        [ 0.68659]])"
            ]
          },
          "metadata": {},
          "execution_count": 14
        }
      ]
    },
    {
      "cell_type": "code",
      "source": [
        "tensor1"
      ],
      "metadata": {
        "colab": {
          "base_uri": "https://localhost:8080/"
        },
        "id": "N6M_RPHQJRxW",
        "outputId": "24c4f8e0-4bc2-4fb4-9c99-f472fc9e5c26"
      },
      "execution_count": 15,
      "outputs": [
        {
          "output_type": "execute_result",
          "data": {
            "text/plain": [
              "tensor([[ 0.54335],\n",
              "        [-0.91202],\n",
              "        [-1.11142],\n",
              "        [ 0.68659]])"
            ]
          },
          "metadata": {},
          "execution_count": 15
        }
      ]
    },
    {
      "cell_type": "code",
      "source": [
        "# add three to all of elements and modify tensor1...\n",
        "tensor1.add_(3)"
      ],
      "metadata": {
        "colab": {
          "base_uri": "https://localhost:8080/"
        },
        "id": "mG264DtgJUhn",
        "outputId": "8a7ae2f2-592d-468c-e189-5a3e25c9b4e5"
      },
      "execution_count": 16,
      "outputs": [
        {
          "output_type": "execute_result",
          "data": {
            "text/plain": [
              "tensor([[3.54335],\n",
              "        [2.08798],\n",
              "        [1.88858],\n",
              "        [3.68659]])"
            ]
          },
          "metadata": {},
          "execution_count": 16
        }
      ]
    },
    {
      "cell_type": "code",
      "source": [
        "# tensor1 in CPU... \n",
        "tensor1.device"
      ],
      "metadata": {
        "colab": {
          "base_uri": "https://localhost:8080/"
        },
        "id": "wu8YU-o-JYM2",
        "outputId": "48293153-6c8b-4da9-dfd3-112251b6bbd4"
      },
      "execution_count": 17,
      "outputs": [
        {
          "output_type": "execute_result",
          "data": {
            "text/plain": [
              "device(type='cpu')"
            ]
          },
          "metadata": {},
          "execution_count": 17
        }
      ]
    },
    {
      "cell_type": "code",
      "source": [
        "# We will use ``torch.device`` objects to move tensors in and out of GPU\n",
        "# if cuda exist remove tensor to GPU..\n",
        "tensor1 = tensor1.to(device)\n",
        "tensor1.device"
      ],
      "metadata": {
        "colab": {
          "base_uri": "https://localhost:8080/"
        },
        "id": "9KtCwC_uJa9K",
        "outputId": "df651fd4-0c60-4fee-887f-558b8400b809"
      },
      "execution_count": 20,
      "outputs": [
        {
          "output_type": "execute_result",
          "data": {
            "text/plain": [
              "device(type='cuda', index=0)"
            ]
          },
          "metadata": {},
          "execution_count": 20
        }
      ]
    },
    {
      "cell_type": "code",
      "source": [
        "tensor1 = tensor1.to(\"cpu\")\n",
        "tensor1.device"
      ],
      "metadata": {
        "colab": {
          "base_uri": "https://localhost:8080/"
        },
        "id": "RRc6J4LULEXi",
        "outputId": "35554f38-11ed-406e-98b0-ad6f04b45d5e"
      },
      "execution_count": 21,
      "outputs": [
        {
          "output_type": "execute_result",
          "data": {
            "text/plain": [
              "device(type='cpu')"
            ]
          },
          "metadata": {},
          "execution_count": 21
        }
      ]
    },
    {
      "cell_type": "code",
      "source": [
        "data_dir = './data'\n",
        "cifar = torchvision.datasets.CIFAR10(data_dir, train = True, download = True)\n",
        "cifar.data.shape"
      ],
      "metadata": {
        "colab": {
          "base_uri": "https://localhost:8080/"
        },
        "id": "hb2DpXAaLbic",
        "outputId": "514b41fa-ca9c-4d90-b9e1-da7b14b576d4"
      },
      "execution_count": 22,
      "outputs": [
        {
          "output_type": "stream",
          "name": "stdout",
          "text": [
            "Downloading https://www.cs.toronto.edu/~kriz/cifar-10-python.tar.gz to ./data/cifar-10-python.tar.gz\n"
          ]
        },
        {
          "output_type": "stream",
          "name": "stderr",
          "text": [
            "100%|██████████| 170498071/170498071 [00:01<00:00, 106326573.42it/s]\n"
          ]
        },
        {
          "output_type": "stream",
          "name": "stdout",
          "text": [
            "Extracting ./data/cifar-10-python.tar.gz to ./data\n"
          ]
        },
        {
          "output_type": "execute_result",
          "data": {
            "text/plain": [
              "(50000, 32, 32, 3)"
            ]
          },
          "metadata": {},
          "execution_count": 22
        }
      ]
    },
    {
      "cell_type": "code",
      "source": [
        "# now we have 50000 images with 32 by 32 pixels (width, height) and 3 channels(r, b, g)\n",
        "# use permute to change dimension of data.\n",
        "# cifar data is numpy ndarray...\n",
        "type(cifar.data[0])"
      ],
      "metadata": {
        "colab": {
          "base_uri": "https://localhost:8080/"
        },
        "id": "uQQCi4h8Lr5J",
        "outputId": "8a8f52cb-1715-40e9-f8a6-7ebc0efddd92"
      },
      "execution_count": 23,
      "outputs": [
        {
          "output_type": "execute_result",
          "data": {
            "text/plain": [
              "numpy.ndarray"
            ]
          },
          "metadata": {},
          "execution_count": 23
        }
      ]
    },
    {
      "cell_type": "code",
      "source": [
        "# convert array to torch tensors..\n",
        "X = torch.from_numpy(cifar.data).permute(0, 3, 1, 2).float()\n",
        "X = X / 255.\n",
        "print(X.type(), X.size(), X.min().item(), X.max().item())"
      ],
      "metadata": {
        "colab": {
          "base_uri": "https://localhost:8080/"
        },
        "id": "5cihedE0MOvd",
        "outputId": "bfbdc1c3-b8f1-40ce-96d2-83d7c77fb435"
      },
      "execution_count": 24,
      "outputs": [
        {
          "output_type": "stream",
          "name": "stdout",
          "text": [
            "torch.FloatTensor torch.Size([50000, 3, 32, 32]) 0.0 1.0\n"
          ]
        }
      ]
    },
    {
      "cell_type": "code",
      "source": [],
      "metadata": {
        "id": "q1EYtxU7NZPC"
      },
      "execution_count": null,
      "outputs": []
    }
  ]
}