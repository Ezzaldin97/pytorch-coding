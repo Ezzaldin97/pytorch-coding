{
  "nbformat": 4,
  "nbformat_minor": 0,
  "metadata": {
    "colab": {
      "provenance": [],
      "gpuType": "T4",
      "authorship_tag": "ABX9TyP/NNijDDd/SvfbffdRcv3Y",
      "include_colab_link": true
    },
    "kernelspec": {
      "name": "python3",
      "display_name": "Python 3"
    },
    "language_info": {
      "name": "python"
    },
    "accelerator": "GPU",
    "gpuClass": "standard"
  },
  "cells": [
    {
      "cell_type": "markdown",
      "metadata": {
        "id": "view-in-github",
        "colab_type": "text"
      },
      "source": [
        "<a href=\"https://colab.research.google.com/github/Ezzaldin97/pytorch-coding/blob/main/Tensors_AutoGrad_in_pytorch.ipynb\" target=\"_parent\"><img src=\"https://colab.research.google.com/assets/colab-badge.svg\" alt=\"Open In Colab\"/></a>"
      ]
    },
    {
      "cell_type": "code",
      "execution_count": 1,
      "metadata": {
        "colab": {
          "base_uri": "https://localhost:8080/",
          "height": 35
        },
        "id": "ZTJyyJRvHcPQ",
        "outputId": "e7228fbb-9d10-4afb-b4f2-28716253e236"
      },
      "outputs": [
        {
          "output_type": "execute_result",
          "data": {
            "text/plain": [
              "'2.0.0+cu118'"
            ],
            "application/vnd.google.colaboratory.intrinsic+json": {
              "type": "string"
            }
          },
          "metadata": {},
          "execution_count": 1
        }
      ],
      "source": [
        "import numpy as np\n",
        "import torch\n",
        "import torchvision\n",
        "\n",
        "torch.__version__"
      ]
    },
    {
      "cell_type": "code",
      "source": [
        "# checking if GPU exist-->if exist assign device to GPU else CPU...\n",
        "# here we don't have GPUs so all operation by default will be on CPU\n",
        "# default operations run on CPU\n",
        "# we don't need to move tensors to GPU as it does't exist..\n",
        "device = torch.device(\"cuda\") if torch.cuda.is_available() else torch.device(\"cpu\")\n",
        "# decide here the precision of digits..\n",
        "torch.set_printoptions(precision=5)\n",
        "device"
      ],
      "metadata": {
        "colab": {
          "base_uri": "https://localhost:8080/"
        },
        "id": "8XdCIkyIIGSy",
        "outputId": "a072f2df-b1c1-41aa-e50c-b4b85459f89b"
      },
      "execution_count": 2,
      "outputs": [
        {
          "output_type": "execute_result",
          "data": {
            "text/plain": [
              "device(type='cuda')"
            ]
          },
          "metadata": {},
          "execution_count": 2
        }
      ]
    },
    {
      "cell_type": "code",
      "source": [
        "empty_tensor = torch.empty(size = (2,2), dtype = torch.float32)\n",
        "print(empty_tensor.size())\n",
        "print(empty_tensor)\n",
        "print(empty_tensor.dtype)"
      ],
      "metadata": {
        "colab": {
          "base_uri": "https://localhost:8080/"
        },
        "id": "Ks582X26Ib5B",
        "outputId": "acf4b7f0-a593-4b22-8951-2d3372e18b88"
      },
      "execution_count": 3,
      "outputs": [
        {
          "output_type": "stream",
          "name": "stdout",
          "text": [
            "torch.Size([2, 2])\n",
            "tensor([[-5.96104e+13,  4.58295e-41],\n",
            "        [ 2.38453e-34,  0.00000e+00]])\n",
            "torch.float32\n"
          ]
        }
      ]
    },
    {
      "cell_type": "code",
      "source": [
        "# create random tensor..\n",
        "random_tensor = torch.randn(size = (2,3), dtype=torch.float16)\n",
        "print(random_tensor.size())\n",
        "print(random_tensor)\n",
        "print(random_tensor.dtype)"
      ],
      "metadata": {
        "colab": {
          "base_uri": "https://localhost:8080/"
        },
        "id": "eWpHl2ZzIfk5",
        "outputId": "8b773cb7-616b-4e06-b8e4-0837bf2f3e43"
      },
      "execution_count": 4,
      "outputs": [
        {
          "output_type": "stream",
          "name": "stdout",
          "text": [
            "torch.Size([2, 3])\n",
            "tensor([[-0.31665,  0.34546,  1.82812],\n",
            "        [-0.82080,  1.25488, -0.06018]], dtype=torch.float16)\n",
            "torch.float16\n"
          ]
        }
      ]
    },
    {
      "cell_type": "code",
      "source": [
        "# converting torch tensor to numpy array.. \n",
        "random_arr = random_tensor.numpy()\n",
        "type(random_arr)"
      ],
      "metadata": {
        "colab": {
          "base_uri": "https://localhost:8080/"
        },
        "id": "wTHY1xmqIl26",
        "outputId": "75e53958-a0af-4339-915a-6384cd6d129b"
      },
      "execution_count": 5,
      "outputs": [
        {
          "output_type": "execute_result",
          "data": {
            "text/plain": [
              "numpy.ndarray"
            ]
          },
          "metadata": {},
          "execution_count": 5
        }
      ]
    },
    {
      "cell_type": "code",
      "source": [
        "# becareful here of shared memory when converting tensor to numpy array, or vice versa \n",
        "# change something in one of them, change the other as well....\n",
        "random_arr"
      ],
      "metadata": {
        "colab": {
          "base_uri": "https://localhost:8080/"
        },
        "id": "HfYB98MCIpNQ",
        "outputId": "0fad809a-e32d-4e9c-be98-0d4086b0f6de"
      },
      "execution_count": 6,
      "outputs": [
        {
          "output_type": "execute_result",
          "data": {
            "text/plain": [
              "array([[-0.3167 ,  0.3455 ,  1.828  ],\n",
              "       [-0.821  ,  1.255  , -0.06018]], dtype=float16)"
            ]
          },
          "metadata": {},
          "execution_count": 6
        }
      ]
    },
    {
      "cell_type": "code",
      "source": [
        "ones_arr = np.ones(5)\n",
        "print(ones_arr.shape)\n",
        "print(ones_arr)"
      ],
      "metadata": {
        "colab": {
          "base_uri": "https://localhost:8080/"
        },
        "id": "DzWmrjKyI0uU",
        "outputId": "42462d10-6cfb-4082-afcc-1fc4efe7640e"
      },
      "execution_count": 7,
      "outputs": [
        {
          "output_type": "stream",
          "name": "stdout",
          "text": [
            "(5,)\n",
            "[1. 1. 1. 1. 1.]\n"
          ]
        }
      ]
    },
    {
      "cell_type": "code",
      "source": [
        "# convert numpy array to torch tensor..\n",
        "ones_tensor = torch.from_numpy(ones_arr)\n",
        "ones_tensor"
      ],
      "metadata": {
        "colab": {
          "base_uri": "https://localhost:8080/"
        },
        "id": "DZD6jXrLI4iR",
        "outputId": "4b0473c4-3849-409a-e25b-b05752b7e0dc"
      },
      "execution_count": 8,
      "outputs": [
        {
          "output_type": "execute_result",
          "data": {
            "text/plain": [
              "tensor([1., 1., 1., 1., 1.], dtype=torch.float64)"
            ]
          },
          "metadata": {},
          "execution_count": 8
        }
      ]
    },
    {
      "cell_type": "code",
      "source": [
        "ones_arr[0] = 5\n",
        "# shared memory again..\n",
        "ones_tensor"
      ],
      "metadata": {
        "colab": {
          "base_uri": "https://localhost:8080/"
        },
        "id": "IQ5FewirI76-",
        "outputId": "1cd8bf47-4169-4186-b7d2-8d0c19561caf"
      },
      "execution_count": 9,
      "outputs": [
        {
          "output_type": "execute_result",
          "data": {
            "text/plain": [
              "tensor([5., 1., 1., 1., 1.], dtype=torch.float64)"
            ]
          },
          "metadata": {},
          "execution_count": 9
        }
      ]
    },
    {
      "cell_type": "code",
      "source": [
        "# in-place modification \n",
        "tensor1 = torch.randn((1,4))\n",
        "tensor1"
      ],
      "metadata": {
        "colab": {
          "base_uri": "https://localhost:8080/"
        },
        "id": "v-gCfVj3JCxz",
        "outputId": "ef367bb2-4c14-466e-b318-e8d11b979ab1"
      },
      "execution_count": 10,
      "outputs": [
        {
          "output_type": "execute_result",
          "data": {
            "text/plain": [
              "tensor([[ 0.61483, -0.72261, -1.30191, -0.69213]])"
            ]
          },
          "metadata": {},
          "execution_count": 10
        }
      ]
    },
    {
      "cell_type": "code",
      "source": [
        "# let's transpose tensor1\n",
        "tensor1.t()"
      ],
      "metadata": {
        "colab": {
          "base_uri": "https://localhost:8080/"
        },
        "id": "7o9l-3jcJJt3",
        "outputId": "a129762d-903f-43bd-d1ab-d7c838e9ecd4"
      },
      "execution_count": 11,
      "outputs": [
        {
          "output_type": "execute_result",
          "data": {
            "text/plain": [
              "tensor([[ 0.61483],\n",
              "        [-0.72261],\n",
              "        [-1.30191],\n",
              "        [-0.69213]])"
            ]
          },
          "metadata": {},
          "execution_count": 11
        }
      ]
    },
    {
      "cell_type": "code",
      "source": [
        "# let's transpose again and modify without assignment..\n",
        "tensor1.t_()"
      ],
      "metadata": {
        "colab": {
          "base_uri": "https://localhost:8080/"
        },
        "id": "rx75qi4iJOuM",
        "outputId": "5c8f1c96-0a15-4f97-87a6-c3e069b84003"
      },
      "execution_count": 12,
      "outputs": [
        {
          "output_type": "execute_result",
          "data": {
            "text/plain": [
              "tensor([[ 0.61483],\n",
              "        [-0.72261],\n",
              "        [-1.30191],\n",
              "        [-0.69213]])"
            ]
          },
          "metadata": {},
          "execution_count": 12
        }
      ]
    },
    {
      "cell_type": "code",
      "source": [
        "tensor1"
      ],
      "metadata": {
        "colab": {
          "base_uri": "https://localhost:8080/"
        },
        "id": "N6M_RPHQJRxW",
        "outputId": "d7e3e24f-e5f8-4ab5-cac1-d41ee1589b27"
      },
      "execution_count": 13,
      "outputs": [
        {
          "output_type": "execute_result",
          "data": {
            "text/plain": [
              "tensor([[ 0.61483],\n",
              "        [-0.72261],\n",
              "        [-1.30191],\n",
              "        [-0.69213]])"
            ]
          },
          "metadata": {},
          "execution_count": 13
        }
      ]
    },
    {
      "cell_type": "code",
      "source": [
        "# add three to all of elements and modify tensor1...\n",
        "tensor1.add_(3)"
      ],
      "metadata": {
        "colab": {
          "base_uri": "https://localhost:8080/"
        },
        "id": "mG264DtgJUhn",
        "outputId": "4fc5150c-618c-4e8a-9092-d027b23b4896"
      },
      "execution_count": 14,
      "outputs": [
        {
          "output_type": "execute_result",
          "data": {
            "text/plain": [
              "tensor([[3.61483],\n",
              "        [2.27739],\n",
              "        [1.69809],\n",
              "        [2.30787]])"
            ]
          },
          "metadata": {},
          "execution_count": 14
        }
      ]
    },
    {
      "cell_type": "code",
      "source": [
        "# tensor1 in CPU... \n",
        "tensor1.device"
      ],
      "metadata": {
        "colab": {
          "base_uri": "https://localhost:8080/"
        },
        "id": "wu8YU-o-JYM2",
        "outputId": "a80bc5a6-e481-4b1c-ac43-0a2e4d84887d"
      },
      "execution_count": 15,
      "outputs": [
        {
          "output_type": "execute_result",
          "data": {
            "text/plain": [
              "device(type='cpu')"
            ]
          },
          "metadata": {},
          "execution_count": 15
        }
      ]
    },
    {
      "cell_type": "code",
      "source": [
        "# We will use ``torch.device`` objects to move tensors in and out of GPU\n",
        "# if cuda exist remove tensor to GPU..\n",
        "tensor1 = tensor1.to(device)\n",
        "tensor1.device"
      ],
      "metadata": {
        "colab": {
          "base_uri": "https://localhost:8080/"
        },
        "id": "9KtCwC_uJa9K",
        "outputId": "d8b29b18-9d6e-4ab5-cb21-6a0702998f7a"
      },
      "execution_count": 16,
      "outputs": [
        {
          "output_type": "execute_result",
          "data": {
            "text/plain": [
              "device(type='cuda', index=0)"
            ]
          },
          "metadata": {},
          "execution_count": 16
        }
      ]
    },
    {
      "cell_type": "code",
      "source": [
        "tensor1 = tensor1.to(\"cpu\")\n",
        "tensor1.device"
      ],
      "metadata": {
        "colab": {
          "base_uri": "https://localhost:8080/"
        },
        "id": "RRc6J4LULEXi",
        "outputId": "074248fe-d994-401c-b525-9c3d178908fa"
      },
      "execution_count": 17,
      "outputs": [
        {
          "output_type": "execute_result",
          "data": {
            "text/plain": [
              "device(type='cpu')"
            ]
          },
          "metadata": {},
          "execution_count": 17
        }
      ]
    },
    {
      "cell_type": "code",
      "source": [
        "data_dir = './data'\n",
        "cifar = torchvision.datasets.CIFAR10(data_dir, train = True, download = True)\n",
        "cifar.data.shape"
      ],
      "metadata": {
        "colab": {
          "base_uri": "https://localhost:8080/"
        },
        "id": "hb2DpXAaLbic",
        "outputId": "51674118-d27a-4f67-ccac-a5104d3e5aec"
      },
      "execution_count": 18,
      "outputs": [
        {
          "output_type": "stream",
          "name": "stdout",
          "text": [
            "Downloading https://www.cs.toronto.edu/~kriz/cifar-10-python.tar.gz to ./data/cifar-10-python.tar.gz\n"
          ]
        },
        {
          "output_type": "stream",
          "name": "stderr",
          "text": [
            "100%|██████████| 170498071/170498071 [00:01<00:00, 101950539.27it/s]\n"
          ]
        },
        {
          "output_type": "stream",
          "name": "stdout",
          "text": [
            "Extracting ./data/cifar-10-python.tar.gz to ./data\n"
          ]
        },
        {
          "output_type": "execute_result",
          "data": {
            "text/plain": [
              "(50000, 32, 32, 3)"
            ]
          },
          "metadata": {},
          "execution_count": 18
        }
      ]
    },
    {
      "cell_type": "code",
      "source": [
        "# now we have 50000 images with 32 by 32 pixels (width, height) and 3 channels(r, b, g)\n",
        "# use permute to change dimension of data.\n",
        "# cifar data is numpy ndarray...\n",
        "type(cifar.data[0])"
      ],
      "metadata": {
        "colab": {
          "base_uri": "https://localhost:8080/"
        },
        "id": "uQQCi4h8Lr5J",
        "outputId": "d5973340-ecfa-4306-e721-ef1a6d682ca9"
      },
      "execution_count": 19,
      "outputs": [
        {
          "output_type": "execute_result",
          "data": {
            "text/plain": [
              "numpy.ndarray"
            ]
          },
          "metadata": {},
          "execution_count": 19
        }
      ]
    },
    {
      "cell_type": "code",
      "source": [
        "# convert array to torch tensors..\n",
        "X = torch.from_numpy(cifar.data).permute(0, 3, 1, 2).float()\n",
        "X = X / 255.\n",
        "print(X.type(), X.size(), X.min().item(), X.max().item())"
      ],
      "metadata": {
        "colab": {
          "base_uri": "https://localhost:8080/"
        },
        "id": "5cihedE0MOvd",
        "outputId": "8d89a559-ee67-448b-dee0-f533685809e7"
      },
      "execution_count": 20,
      "outputs": [
        {
          "output_type": "stream",
          "name": "stdout",
          "text": [
            "torch.FloatTensor torch.Size([50000, 3, 32, 32]) 0.0 1.0\n"
          ]
        }
      ]
    },
    {
      "cell_type": "code",
      "source": [
        "# by default requires grad parameter is set to false, which means in computation graph no gradient will be built with respect to this graph\n",
        "# during the computation.\n",
        "# set the requires grad parameter to True to compute gradient automatically when computing the graph... \n",
        "w = torch.tensor([0.5], requires_grad = True)\n",
        "b = torch.tensor([2.0], requires_grad=True)\n",
        "xx = torch.tensor([0.5], requires_grad=True)"
      ],
      "metadata": {
        "id": "q1EYtxU7NZPC"
      },
      "execution_count": 21,
      "outputs": []
    },
    {
      "cell_type": "code",
      "source": [
        "xx.requires_grad"
      ],
      "metadata": {
        "colab": {
          "base_uri": "https://localhost:8080/"
        },
        "id": "JzI9hN5iq1tj",
        "outputId": "7882c99c-a6d2-43a4-c646-3d485da47aa4"
      },
      "execution_count": 22,
      "outputs": [
        {
          "output_type": "execute_result",
          "data": {
            "text/plain": [
              "True"
            ]
          },
          "metadata": {},
          "execution_count": 22
        }
      ]
    },
    {
      "cell_type": "code",
      "source": [
        "def loss_func(x, y, weight, b):\n",
        "  y_hat = torch.exp(weight*x+b)\n",
        "  print(y_hat)\n",
        "  return torch.sum((y_hat-y)**2)"
      ],
      "metadata": {
        "id": "eL44qwVcq8Bm"
      },
      "execution_count": 23,
      "outputs": []
    },
    {
      "cell_type": "code",
      "source": [
        "ystar = torch.randn_like(xx)\n",
        "l = loss_func(xx, ystar, w, b)"
      ],
      "metadata": {
        "colab": {
          "base_uri": "https://localhost:8080/"
        },
        "id": "IVdzT7tptGTH",
        "outputId": "be687bb4-7e58-4363-d63f-5b572b6de895"
      },
      "execution_count": 25,
      "outputs": [
        {
          "output_type": "stream",
          "name": "stdout",
          "text": [
            "tensor([9.48774], grad_fn=<ExpBackward0>)\n"
          ]
        }
      ]
    },
    {
      "cell_type": "code",
      "source": [
        "l"
      ],
      "metadata": {
        "colab": {
          "base_uri": "https://localhost:8080/"
        },
        "id": "Zk4WWl_xtevP",
        "outputId": "d40ed260-5aa0-4d72-9f25-d7ff165570db"
      },
      "execution_count": 26,
      "outputs": [
        {
          "output_type": "execute_result",
          "data": {
            "text/plain": [
              "tensor(100.09258, grad_fn=<SumBackward0>)"
            ]
          },
          "metadata": {},
          "execution_count": 26
        }
      ]
    },
    {
      "cell_type": "code",
      "source": [
        "l.requires_grad"
      ],
      "metadata": {
        "colab": {
          "base_uri": "https://localhost:8080/"
        },
        "id": "C4Yg217otpEx",
        "outputId": "0ac66c58-2ab1-423c-e99d-3d7ab328f733"
      },
      "execution_count": 29,
      "outputs": [
        {
          "output_type": "execute_result",
          "data": {
            "text/plain": [
              "True"
            ]
          },
          "metadata": {},
          "execution_count": 29
        }
      ]
    },
    {
      "cell_type": "code",
      "source": [
        "# here nothing calculated yet because we must compute the backward path first....\n",
        "print(w.grad)"
      ],
      "metadata": {
        "colab": {
          "base_uri": "https://localhost:8080/"
        },
        "id": "ADISz80_ttuU",
        "outputId": "55215dfd-fb91-4dd3-b1a1-e9f888bf86bb"
      },
      "execution_count": 31,
      "outputs": [
        {
          "output_type": "stream",
          "name": "stdout",
          "text": [
            "None\n"
          ]
        }
      ]
    },
    {
      "cell_type": "code",
      "source": [
        "l.backward()"
      ],
      "metadata": {
        "id": "vbSesWSYt4ZL"
      },
      "execution_count": 32,
      "outputs": []
    },
    {
      "cell_type": "code",
      "source": [
        "print(xx.grad)\n",
        "print(w.grad)"
      ],
      "metadata": {
        "colab": {
          "base_uri": "https://localhost:8080/"
        },
        "id": "kOKFEYcouLm5",
        "outputId": "d16e5539-605d-4014-b0a7-fb6dcf1e31a2"
      },
      "execution_count": 33,
      "outputs": [
        {
          "output_type": "stream",
          "name": "stdout",
          "text": [
            "tensor([94.92126])\n",
            "tensor([94.92126])\n"
          ]
        }
      ]
    },
    {
      "cell_type": "code",
      "source": [],
      "metadata": {
        "id": "VHCpN5GTuPmn"
      },
      "execution_count": null,
      "outputs": []
    }
  ]
}