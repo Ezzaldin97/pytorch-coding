{
  "nbformat": 4,
  "nbformat_minor": 0,
  "metadata": {
    "colab": {
      "provenance": [],
      "authorship_tag": "ABX9TyM5fsZl2cbk6AYpzGh1YCCP",
      "include_colab_link": true
    },
    "kernelspec": {
      "name": "python3",
      "display_name": "Python 3"
    },
    "language_info": {
      "name": "python"
    }
  },
  "cells": [
    {
      "cell_type": "markdown",
      "metadata": {
        "id": "view-in-github",
        "colab_type": "text"
      },
      "source": [
        "<a href=\"https://colab.research.google.com/github/Ezzaldin97/pytorch-coding/blob/main/pyTorch_DL_Basics.ipynb\" target=\"_parent\"><img src=\"https://colab.research.google.com/assets/colab-badge.svg\" alt=\"Open In Colab\"/></a>"
      ]
    },
    {
      "cell_type": "code",
      "execution_count": 8,
      "metadata": {
        "colab": {
          "base_uri": "https://localhost:8080/"
        },
        "id": "WQc2OSMQPoOZ",
        "outputId": "dc7cffef-047d-499c-ae84-b8bee778ccc8"
      },
      "outputs": [
        {
          "output_type": "stream",
          "name": "stdout",
          "text": [
            "tensor([[0.0286, 0.7848]])\n",
            "tensor([[[6.3632e-35, 0.0000e+00, 3.9236e-44],\n",
            "         [0.0000e+00,        nan, 0.0000e+00]],\n",
            "\n",
            "        [[1.3556e-19, 8.6462e+11, 3.2778e+09],\n",
            "         [1.4988e+10, 3.2522e+03, 1.3023e+01]]])\n",
            "tensor([[[1, 1, 1, 1],\n",
            "         [1, 1, 1, 1],\n",
            "         [1, 1, 1, 1]],\n",
            "\n",
            "        [[1, 1, 1, 1],\n",
            "         [1, 1, 1, 1],\n",
            "         [1, 1, 1, 1]]], dtype=torch.int8)\n",
            "torch.int8\n",
            "tensor([ 3.5000, 66.0000])\n"
          ]
        }
      ],
      "source": [
        "# everything in pytorch is based on Tensor, considered as main Data Structure\n",
        "import torch\n",
        "# torch.empty(size(n_dim))\n",
        "x = torch.rand(1, 2)\n",
        "print(x)\n",
        "x = torch.empty(2, 2, 3)\n",
        "print(x)\n",
        "x = torch.ones(2, 3, 4, dtype = torch.int8)\n",
        "print(x)\n",
        "print(x.dtype)\n",
        "# create a tensor from python list..\n",
        "x = torch.tensor([3.5, 66])\n",
        "print(x)"
      ]
    },
    {
      "cell_type": "code",
      "source": [
        "# operations..\n",
        "# addition\n",
        "x = torch.rand(2, 2)\n",
        "y = torch.rand(2, 2)\n",
        "print(torch.add(x, y))"
      ],
      "metadata": {
        "colab": {
          "base_uri": "https://localhost:8080/"
        },
        "id": "Fv1tLzSlQzOe",
        "outputId": "d1158018-9273-4612-ab12-b7c02ee77ec6"
      },
      "execution_count": 9,
      "outputs": [
        {
          "output_type": "stream",
          "name": "stdout",
          "text": [
            "tensor([[0.2092, 0.8096],\n",
            "        [0.4778, 0.9957]])\n"
          ]
        }
      ]
    },
    {
      "cell_type": "code",
      "source": [
        "# do inplace operation: replace elements in y by addition operation results..\n",
        "# use _\n",
        "# add_()\n",
        "y.add_(x)\n",
        "print(y)"
      ],
      "metadata": {
        "colab": {
          "base_uri": "https://localhost:8080/"
        },
        "id": "H8hEp7UXSOya",
        "outputId": "ee0e1505-feaa-489c-850a-e48b941ce930"
      },
      "execution_count": 10,
      "outputs": [
        {
          "output_type": "stream",
          "name": "stdout",
          "text": [
            "tensor([[0.2092, 0.8096],\n",
            "        [0.4778, 0.9957]])\n"
          ]
        }
      ]
    },
    {
      "cell_type": "code",
      "source": [
        "# subtraction\n",
        "print(torch.sub(x, y))"
      ],
      "metadata": {
        "colab": {
          "base_uri": "https://localhost:8080/"
        },
        "id": "0cc2mBoGSl_9",
        "outputId": "ba734316-a6d7-4010-fc6a-c0878a4737cd"
      },
      "execution_count": 11,
      "outputs": [
        {
          "output_type": "stream",
          "name": "stdout",
          "text": [
            "tensor([[-0.1586, -0.0633],\n",
            "        [-0.2541, -0.2145]])\n"
          ]
        }
      ]
    },
    {
      "cell_type": "code",
      "source": [
        "# multiplication\n",
        "print(torch.mul(x, y))\n",
        "# division\n",
        "print(torch.div(x, y))"
      ],
      "metadata": {
        "colab": {
          "base_uri": "https://localhost:8080/"
        },
        "id": "b4-qNafmSw5W",
        "outputId": "fd02cb66-ea06-4f7f-f824-e3cc3da6145d"
      },
      "execution_count": 12,
      "outputs": [
        {
          "output_type": "stream",
          "name": "stdout",
          "text": [
            "tensor([[0.0106, 0.6042],\n",
            "        [0.1069, 0.7779]])\n",
            "tensor([[0.2420, 0.9218],\n",
            "        [0.4681, 0.7846]])\n"
          ]
        }
      ]
    },
    {
      "cell_type": "code",
      "source": [
        "# slicing..\n",
        "print(x[:, 0])\n",
        "print(x[1, 0])"
      ],
      "metadata": {
        "colab": {
          "base_uri": "https://localhost:8080/"
        },
        "id": "zw8xrh6aS9m6",
        "outputId": "0722b275-47ba-4fd8-b851-83e45567d764"
      },
      "execution_count": 14,
      "outputs": [
        {
          "output_type": "stream",
          "name": "stdout",
          "text": [
            "tensor([0.0506, 0.2237])\n",
            "tensor(0.2237)\n"
          ]
        }
      ]
    },
    {
      "cell_type": "code",
      "source": [
        "# reshaping..\n",
        "z = torch.rand(2, 4)\n",
        "print(z)\n",
        "print(z.view(4, 2))\n",
        "print(z.view(8))"
      ],
      "metadata": {
        "colab": {
          "base_uri": "https://localhost:8080/"
        },
        "id": "9ziZCnfnTD2w",
        "outputId": "7ecd01bf-62a7-4881-a996-3873967abf97"
      },
      "execution_count": 17,
      "outputs": [
        {
          "output_type": "stream",
          "name": "stdout",
          "text": [
            "tensor([[0.6162, 0.1507, 0.0953, 0.3140],\n",
            "        [0.3704, 0.2234, 0.4617, 0.2515]])\n",
            "tensor([[0.6162, 0.1507],\n",
            "        [0.0953, 0.3140],\n",
            "        [0.3704, 0.2234],\n",
            "        [0.4617, 0.2515]])\n",
            "tensor([0.6162, 0.1507, 0.0953, 0.3140, 0.3704, 0.2234, 0.4617, 0.2515])\n"
          ]
        }
      ]
    },
    {
      "cell_type": "code",
      "source": [
        "# converting from numpy to Tensor and Vice Versa\n",
        "a = torch.ones(2, 5)\n",
        "print(a)\n",
        "print(type(a.numpy()))"
      ],
      "metadata": {
        "colab": {
          "base_uri": "https://localhost:8080/"
        },
        "id": "mBCOBpsITfcU",
        "outputId": "fa61d164-2490-4a9e-d83f-76dba81e9e83"
      },
      "execution_count": 19,
      "outputs": [
        {
          "output_type": "stream",
          "name": "stdout",
          "text": [
            "tensor([[1., 1., 1., 1., 1.],\n",
            "        [1., 1., 1., 1., 1.]])\n",
            "<class 'numpy.ndarray'>\n"
          ]
        }
      ]
    },
    {
      "cell_type": "code",
      "source": [
        "import numpy as np\n",
        "a = np.array([2, 5])\n",
        "print(type(a))\n",
        "print(type(torch.from_numpy(a)))"
      ],
      "metadata": {
        "colab": {
          "base_uri": "https://localhost:8080/"
        },
        "id": "iwKEoitMUIlL",
        "outputId": "b862dad0-0d0f-493e-ef3e-93dc670411cf"
      },
      "execution_count": 22,
      "outputs": [
        {
          "output_type": "stream",
          "name": "stdout",
          "text": [
            "<class 'numpy.ndarray'>\n",
            "<class 'torch.Tensor'>\n"
          ]
        }
      ]
    },
    {
      "cell_type": "code",
      "source": [
        "# check if GPU Exists\n",
        "# if exists do the operation on GPU..\n",
        "if torch.cuda.is_available():\n",
        "  device = torch.device(\"cuda\")\n",
        "  x = torch.ones(2, 3, device = device)\n",
        "  y = torch.rand(2, 3)\n",
        "  y = y.to(device)\n",
        "  z = torch.add(x, y)\n",
        "  z = z.to(\"cpu\")\n",
        "print(z.numpy())"
      ],
      "metadata": {
        "colab": {
          "base_uri": "https://localhost:8080/"
        },
        "id": "5Tg0A8i_UpRu",
        "outputId": "a055a0b2-4f4d-4032-96b7-2e7adfa4679f"
      },
      "execution_count": 27,
      "outputs": [
        {
          "output_type": "stream",
          "name": "stdout",
          "text": [
            "[[0.6162052  0.15072846 0.0953474  0.31401134]\n",
            " [0.37043405 0.22341609 0.46170348 0.25153023]]\n"
          ]
        }
      ]
    },
    {
      "cell_type": "code",
      "source": [
        "# require_grad = True: Tells pytorch to calculate gradient later..\n",
        "x = torch.ones(2, 3, requires_grad = True)\n",
        "x"
      ],
      "metadata": {
        "colab": {
          "base_uri": "https://localhost:8080/"
        },
        "id": "loLKP3djV3Dn",
        "outputId": "e94d8c41-a324-4389-c572-414b077e9fee"
      },
      "execution_count": 29,
      "outputs": [
        {
          "output_type": "execute_result",
          "data": {
            "text/plain": [
              "tensor([[1., 1., 1.],\n",
              "        [1., 1., 1.]], requires_grad=True)"
            ]
          },
          "metadata": {},
          "execution_count": 29
        }
      ]
    }
  ]
}