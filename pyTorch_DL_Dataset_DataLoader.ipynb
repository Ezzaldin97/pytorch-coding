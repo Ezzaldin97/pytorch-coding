{
  "nbformat": 4,
  "nbformat_minor": 0,
  "metadata": {
    "colab": {
      "provenance": [],
      "authorship_tag": "ABX9TyPfZP5tC5enFbqjB9XnK94C",
      "include_colab_link": true
    },
    "kernelspec": {
      "name": "python3",
      "display_name": "Python 3"
    },
    "language_info": {
      "name": "python"
    }
  },
  "cells": [
    {
      "cell_type": "markdown",
      "metadata": {
        "id": "view-in-github",
        "colab_type": "text"
      },
      "source": [
        "<a href=\"https://colab.research.google.com/github/Ezzaldin97/pytorch-coding/blob/main/pyTorch_DL_Dataset_DataLoader.ipynb\" target=\"_parent\"><img src=\"https://colab.research.google.com/assets/colab-badge.svg\" alt=\"Open In Colab\"/></a>"
      ]
    },
    {
      "cell_type": "code",
      "execution_count": 2,
      "metadata": {
        "id": "TfwsKn5L_Amp"
      },
      "outputs": [],
      "source": [
        "import torch\n",
        "from torch.utils.data import Dataset, DataLoader\n",
        "import numpy as np\n",
        "import math\n",
        "import torchvision\n",
        "import pandas as pd"
      ]
    },
    {
      "cell_type": "code",
      "source": [
        "class WineDataset(Dataset):\n",
        "  def __init__(self):\n",
        "    df = pd.read_csv(\"/content/wine.txt\")\n",
        "    self.X = torch.from_numpy(df.drop(\"Wine\", axis = 1).values.astype(np.float32))\n",
        "    self.y = torch.from_numpy(df[\"Wine\"].values.astype(np.float32))\n",
        "    self.n_samples = df.shape[0]\n",
        "  def __getitem__(self, idx):\n",
        "    return self.X[idx], self.y[idx]\n",
        "  def __len__(self):\n",
        "    return self.n_samples\n",
        "data = WineDataset()\n",
        "data.__len__()"
      ],
      "metadata": {
        "colab": {
          "base_uri": "https://localhost:8080/"
        },
        "id": "Zvya7h1_BIXJ",
        "outputId": "84493903-db4d-4f5f-da6c-399cc66ee988"
      },
      "execution_count": 15,
      "outputs": [
        {
          "output_type": "execute_result",
          "data": {
            "text/plain": [
              "178"
            ]
          },
          "metadata": {},
          "execution_count": 15
        }
      ]
    },
    {
      "cell_type": "code",
      "source": [
        "dataloader = DataLoader(dataset=data, batch_size = 5, shuffle = True)\n",
        "data_gen = iter(dataloader)\n",
        "data_iter = next(data_gen)\n",
        "features, label = data_iter\n",
        "print(features, label)"
      ],
      "metadata": {
        "colab": {
          "base_uri": "https://localhost:8080/"
        },
        "id": "sXDssA1dCo_e",
        "outputId": "01c7fa06-29e0-4478-c170-a8df451d4dea"
      },
      "execution_count": 16,
      "outputs": [
        {
          "output_type": "stream",
          "name": "stdout",
          "text": [
            "tensor([[1.1620e+01, 1.9900e+00, 2.2800e+00, 1.8000e+01, 9.8000e+01, 3.0200e+00,\n",
            "         2.2600e+00, 1.7000e-01, 1.3500e+00, 3.2500e+00, 1.1600e+00, 2.9600e+00,\n",
            "         3.4500e+02],\n",
            "        [1.1610e+01, 1.3500e+00, 2.7000e+00, 2.0000e+01, 9.4000e+01, 2.7400e+00,\n",
            "         2.9200e+00, 2.9000e-01, 2.4900e+00, 2.6500e+00, 9.6000e-01, 3.2600e+00,\n",
            "         6.8000e+02],\n",
            "        [1.2420e+01, 2.5500e+00, 2.2700e+00, 2.2000e+01, 9.0000e+01, 1.6800e+00,\n",
            "         1.8400e+00, 6.6000e-01, 1.4200e+00, 2.7000e+00, 8.6000e-01, 3.3000e+00,\n",
            "         3.1500e+02],\n",
            "        [1.2210e+01, 1.1900e+00, 1.7500e+00, 1.6800e+01, 1.5100e+02, 1.8500e+00,\n",
            "         1.2800e+00, 1.4000e-01, 2.5000e+00, 2.8500e+00, 1.2800e+00, 3.0700e+00,\n",
            "         7.1800e+02],\n",
            "        [1.2720e+01, 1.7500e+00, 2.2800e+00, 2.2500e+01, 8.4000e+01, 1.3800e+00,\n",
            "         1.7600e+00, 4.8000e-01, 1.6300e+00, 3.3000e+00, 8.8000e-01, 2.4200e+00,\n",
            "         4.8800e+02]]) tensor([2., 2., 2., 2., 2.])\n"
          ]
        }
      ]
    },
    {
      "cell_type": "code",
      "source": [
        "samples = len(data)\n",
        "epochs = math.ceil(samples/5)\n",
        "print(samples, epochs)"
      ],
      "metadata": {
        "colab": {
          "base_uri": "https://localhost:8080/"
        },
        "id": "2eNwMqSpDbJI",
        "outputId": "ec842998-5303-4a06-890a-b967dad307e1"
      },
      "execution_count": 17,
      "outputs": [
        {
          "output_type": "stream",
          "name": "stdout",
          "text": [
            "178 36\n"
          ]
        }
      ]
    },
    {
      "cell_type": "code",
      "source": [
        "for epoch in range(epochs):\n",
        "  for i, (features, labels) in enumerate(dataloader):\n",
        "    if (i+1) % 5 == 0:\n",
        "            print(f'Epoch: {epoch+1}/{epochs}, Step {i+1}/{epochs}| Inputs {features.shape} | Labels {labels.shape}')"
      ],
      "metadata": {
        "colab": {
          "base_uri": "https://localhost:8080/"
        },
        "id": "9iLOE3JlFcJA",
        "outputId": "207d354d-46af-4bf6-f1bc-9e0618ce055b"
      },
      "execution_count": 20,
      "outputs": [
        {
          "output_type": "stream",
          "name": "stdout",
          "text": [
            "Epoch: 1/36, Step 5/36| Inputs torch.Size([5, 13]) | Labels torch.Size([5])\n",
            "Epoch: 1/36, Step 10/36| Inputs torch.Size([5, 13]) | Labels torch.Size([5])\n",
            "Epoch: 1/36, Step 15/36| Inputs torch.Size([5, 13]) | Labels torch.Size([5])\n",
            "Epoch: 1/36, Step 20/36| Inputs torch.Size([5, 13]) | Labels torch.Size([5])\n",
            "Epoch: 1/36, Step 25/36| Inputs torch.Size([5, 13]) | Labels torch.Size([5])\n",
            "Epoch: 1/36, Step 30/36| Inputs torch.Size([5, 13]) | Labels torch.Size([5])\n",
            "Epoch: 1/36, Step 35/36| Inputs torch.Size([5, 13]) | Labels torch.Size([5])\n",
            "Epoch: 2/36, Step 5/36| Inputs torch.Size([5, 13]) | Labels torch.Size([5])\n",
            "Epoch: 2/36, Step 10/36| Inputs torch.Size([5, 13]) | Labels torch.Size([5])\n",
            "Epoch: 2/36, Step 15/36| Inputs torch.Size([5, 13]) | Labels torch.Size([5])\n",
            "Epoch: 2/36, Step 20/36| Inputs torch.Size([5, 13]) | Labels torch.Size([5])\n",
            "Epoch: 2/36, Step 25/36| Inputs torch.Size([5, 13]) | Labels torch.Size([5])\n",
            "Epoch: 2/36, Step 30/36| Inputs torch.Size([5, 13]) | Labels torch.Size([5])\n",
            "Epoch: 2/36, Step 35/36| Inputs torch.Size([5, 13]) | Labels torch.Size([5])\n",
            "Epoch: 3/36, Step 5/36| Inputs torch.Size([5, 13]) | Labels torch.Size([5])\n",
            "Epoch: 3/36, Step 10/36| Inputs torch.Size([5, 13]) | Labels torch.Size([5])\n",
            "Epoch: 3/36, Step 15/36| Inputs torch.Size([5, 13]) | Labels torch.Size([5])\n",
            "Epoch: 3/36, Step 20/36| Inputs torch.Size([5, 13]) | Labels torch.Size([5])\n",
            "Epoch: 3/36, Step 25/36| Inputs torch.Size([5, 13]) | Labels torch.Size([5])\n",
            "Epoch: 3/36, Step 30/36| Inputs torch.Size([5, 13]) | Labels torch.Size([5])\n",
            "Epoch: 3/36, Step 35/36| Inputs torch.Size([5, 13]) | Labels torch.Size([5])\n",
            "Epoch: 4/36, Step 5/36| Inputs torch.Size([5, 13]) | Labels torch.Size([5])\n",
            "Epoch: 4/36, Step 10/36| Inputs torch.Size([5, 13]) | Labels torch.Size([5])\n",
            "Epoch: 4/36, Step 15/36| Inputs torch.Size([5, 13]) | Labels torch.Size([5])\n",
            "Epoch: 4/36, Step 20/36| Inputs torch.Size([5, 13]) | Labels torch.Size([5])\n",
            "Epoch: 4/36, Step 25/36| Inputs torch.Size([5, 13]) | Labels torch.Size([5])\n",
            "Epoch: 4/36, Step 30/36| Inputs torch.Size([5, 13]) | Labels torch.Size([5])\n",
            "Epoch: 4/36, Step 35/36| Inputs torch.Size([5, 13]) | Labels torch.Size([5])\n",
            "Epoch: 5/36, Step 5/36| Inputs torch.Size([5, 13]) | Labels torch.Size([5])\n",
            "Epoch: 5/36, Step 10/36| Inputs torch.Size([5, 13]) | Labels torch.Size([5])\n",
            "Epoch: 5/36, Step 15/36| Inputs torch.Size([5, 13]) | Labels torch.Size([5])\n",
            "Epoch: 5/36, Step 20/36| Inputs torch.Size([5, 13]) | Labels torch.Size([5])\n",
            "Epoch: 5/36, Step 25/36| Inputs torch.Size([5, 13]) | Labels torch.Size([5])\n",
            "Epoch: 5/36, Step 30/36| Inputs torch.Size([5, 13]) | Labels torch.Size([5])\n",
            "Epoch: 5/36, Step 35/36| Inputs torch.Size([5, 13]) | Labels torch.Size([5])\n",
            "Epoch: 6/36, Step 5/36| Inputs torch.Size([5, 13]) | Labels torch.Size([5])\n",
            "Epoch: 6/36, Step 10/36| Inputs torch.Size([5, 13]) | Labels torch.Size([5])\n",
            "Epoch: 6/36, Step 15/36| Inputs torch.Size([5, 13]) | Labels torch.Size([5])\n",
            "Epoch: 6/36, Step 20/36| Inputs torch.Size([5, 13]) | Labels torch.Size([5])\n",
            "Epoch: 6/36, Step 25/36| Inputs torch.Size([5, 13]) | Labels torch.Size([5])\n",
            "Epoch: 6/36, Step 30/36| Inputs torch.Size([5, 13]) | Labels torch.Size([5])\n",
            "Epoch: 6/36, Step 35/36| Inputs torch.Size([5, 13]) | Labels torch.Size([5])\n",
            "Epoch: 7/36, Step 5/36| Inputs torch.Size([5, 13]) | Labels torch.Size([5])\n",
            "Epoch: 7/36, Step 10/36| Inputs torch.Size([5, 13]) | Labels torch.Size([5])\n",
            "Epoch: 7/36, Step 15/36| Inputs torch.Size([5, 13]) | Labels torch.Size([5])\n",
            "Epoch: 7/36, Step 20/36| Inputs torch.Size([5, 13]) | Labels torch.Size([5])\n",
            "Epoch: 7/36, Step 25/36| Inputs torch.Size([5, 13]) | Labels torch.Size([5])\n",
            "Epoch: 7/36, Step 30/36| Inputs torch.Size([5, 13]) | Labels torch.Size([5])\n",
            "Epoch: 7/36, Step 35/36| Inputs torch.Size([5, 13]) | Labels torch.Size([5])\n",
            "Epoch: 8/36, Step 5/36| Inputs torch.Size([5, 13]) | Labels torch.Size([5])\n",
            "Epoch: 8/36, Step 10/36| Inputs torch.Size([5, 13]) | Labels torch.Size([5])\n",
            "Epoch: 8/36, Step 15/36| Inputs torch.Size([5, 13]) | Labels torch.Size([5])\n",
            "Epoch: 8/36, Step 20/36| Inputs torch.Size([5, 13]) | Labels torch.Size([5])\n",
            "Epoch: 8/36, Step 25/36| Inputs torch.Size([5, 13]) | Labels torch.Size([5])\n",
            "Epoch: 8/36, Step 30/36| Inputs torch.Size([5, 13]) | Labels torch.Size([5])\n",
            "Epoch: 8/36, Step 35/36| Inputs torch.Size([5, 13]) | Labels torch.Size([5])\n",
            "Epoch: 9/36, Step 5/36| Inputs torch.Size([5, 13]) | Labels torch.Size([5])\n",
            "Epoch: 9/36, Step 10/36| Inputs torch.Size([5, 13]) | Labels torch.Size([5])\n",
            "Epoch: 9/36, Step 15/36| Inputs torch.Size([5, 13]) | Labels torch.Size([5])\n",
            "Epoch: 9/36, Step 20/36| Inputs torch.Size([5, 13]) | Labels torch.Size([5])\n",
            "Epoch: 9/36, Step 25/36| Inputs torch.Size([5, 13]) | Labels torch.Size([5])\n",
            "Epoch: 9/36, Step 30/36| Inputs torch.Size([5, 13]) | Labels torch.Size([5])\n",
            "Epoch: 9/36, Step 35/36| Inputs torch.Size([5, 13]) | Labels torch.Size([5])\n",
            "Epoch: 10/36, Step 5/36| Inputs torch.Size([5, 13]) | Labels torch.Size([5])\n",
            "Epoch: 10/36, Step 10/36| Inputs torch.Size([5, 13]) | Labels torch.Size([5])\n",
            "Epoch: 10/36, Step 15/36| Inputs torch.Size([5, 13]) | Labels torch.Size([5])\n",
            "Epoch: 10/36, Step 20/36| Inputs torch.Size([5, 13]) | Labels torch.Size([5])\n",
            "Epoch: 10/36, Step 25/36| Inputs torch.Size([5, 13]) | Labels torch.Size([5])\n",
            "Epoch: 10/36, Step 30/36| Inputs torch.Size([5, 13]) | Labels torch.Size([5])\n",
            "Epoch: 10/36, Step 35/36| Inputs torch.Size([5, 13]) | Labels torch.Size([5])\n",
            "Epoch: 11/36, Step 5/36| Inputs torch.Size([5, 13]) | Labels torch.Size([5])\n",
            "Epoch: 11/36, Step 10/36| Inputs torch.Size([5, 13]) | Labels torch.Size([5])\n",
            "Epoch: 11/36, Step 15/36| Inputs torch.Size([5, 13]) | Labels torch.Size([5])\n",
            "Epoch: 11/36, Step 20/36| Inputs torch.Size([5, 13]) | Labels torch.Size([5])\n",
            "Epoch: 11/36, Step 25/36| Inputs torch.Size([5, 13]) | Labels torch.Size([5])\n",
            "Epoch: 11/36, Step 30/36| Inputs torch.Size([5, 13]) | Labels torch.Size([5])\n",
            "Epoch: 11/36, Step 35/36| Inputs torch.Size([5, 13]) | Labels torch.Size([5])\n",
            "Epoch: 12/36, Step 5/36| Inputs torch.Size([5, 13]) | Labels torch.Size([5])\n",
            "Epoch: 12/36, Step 10/36| Inputs torch.Size([5, 13]) | Labels torch.Size([5])\n",
            "Epoch: 12/36, Step 15/36| Inputs torch.Size([5, 13]) | Labels torch.Size([5])\n",
            "Epoch: 12/36, Step 20/36| Inputs torch.Size([5, 13]) | Labels torch.Size([5])\n",
            "Epoch: 12/36, Step 25/36| Inputs torch.Size([5, 13]) | Labels torch.Size([5])\n",
            "Epoch: 12/36, Step 30/36| Inputs torch.Size([5, 13]) | Labels torch.Size([5])\n",
            "Epoch: 12/36, Step 35/36| Inputs torch.Size([5, 13]) | Labels torch.Size([5])\n",
            "Epoch: 13/36, Step 5/36| Inputs torch.Size([5, 13]) | Labels torch.Size([5])\n",
            "Epoch: 13/36, Step 10/36| Inputs torch.Size([5, 13]) | Labels torch.Size([5])\n",
            "Epoch: 13/36, Step 15/36| Inputs torch.Size([5, 13]) | Labels torch.Size([5])\n",
            "Epoch: 13/36, Step 20/36| Inputs torch.Size([5, 13]) | Labels torch.Size([5])\n",
            "Epoch: 13/36, Step 25/36| Inputs torch.Size([5, 13]) | Labels torch.Size([5])\n",
            "Epoch: 13/36, Step 30/36| Inputs torch.Size([5, 13]) | Labels torch.Size([5])\n",
            "Epoch: 13/36, Step 35/36| Inputs torch.Size([5, 13]) | Labels torch.Size([5])\n",
            "Epoch: 14/36, Step 5/36| Inputs torch.Size([5, 13]) | Labels torch.Size([5])\n",
            "Epoch: 14/36, Step 10/36| Inputs torch.Size([5, 13]) | Labels torch.Size([5])\n",
            "Epoch: 14/36, Step 15/36| Inputs torch.Size([5, 13]) | Labels torch.Size([5])\n",
            "Epoch: 14/36, Step 20/36| Inputs torch.Size([5, 13]) | Labels torch.Size([5])\n",
            "Epoch: 14/36, Step 25/36| Inputs torch.Size([5, 13]) | Labels torch.Size([5])\n",
            "Epoch: 14/36, Step 30/36| Inputs torch.Size([5, 13]) | Labels torch.Size([5])\n",
            "Epoch: 14/36, Step 35/36| Inputs torch.Size([5, 13]) | Labels torch.Size([5])\n",
            "Epoch: 15/36, Step 5/36| Inputs torch.Size([5, 13]) | Labels torch.Size([5])\n",
            "Epoch: 15/36, Step 10/36| Inputs torch.Size([5, 13]) | Labels torch.Size([5])\n",
            "Epoch: 15/36, Step 15/36| Inputs torch.Size([5, 13]) | Labels torch.Size([5])\n",
            "Epoch: 15/36, Step 20/36| Inputs torch.Size([5, 13]) | Labels torch.Size([5])\n",
            "Epoch: 15/36, Step 25/36| Inputs torch.Size([5, 13]) | Labels torch.Size([5])\n",
            "Epoch: 15/36, Step 30/36| Inputs torch.Size([5, 13]) | Labels torch.Size([5])\n",
            "Epoch: 15/36, Step 35/36| Inputs torch.Size([5, 13]) | Labels torch.Size([5])\n",
            "Epoch: 16/36, Step 5/36| Inputs torch.Size([5, 13]) | Labels torch.Size([5])\n",
            "Epoch: 16/36, Step 10/36| Inputs torch.Size([5, 13]) | Labels torch.Size([5])\n",
            "Epoch: 16/36, Step 15/36| Inputs torch.Size([5, 13]) | Labels torch.Size([5])\n",
            "Epoch: 16/36, Step 20/36| Inputs torch.Size([5, 13]) | Labels torch.Size([5])\n",
            "Epoch: 16/36, Step 25/36| Inputs torch.Size([5, 13]) | Labels torch.Size([5])\n",
            "Epoch: 16/36, Step 30/36| Inputs torch.Size([5, 13]) | Labels torch.Size([5])\n",
            "Epoch: 16/36, Step 35/36| Inputs torch.Size([5, 13]) | Labels torch.Size([5])\n",
            "Epoch: 17/36, Step 5/36| Inputs torch.Size([5, 13]) | Labels torch.Size([5])\n",
            "Epoch: 17/36, Step 10/36| Inputs torch.Size([5, 13]) | Labels torch.Size([5])\n",
            "Epoch: 17/36, Step 15/36| Inputs torch.Size([5, 13]) | Labels torch.Size([5])\n",
            "Epoch: 17/36, Step 20/36| Inputs torch.Size([5, 13]) | Labels torch.Size([5])\n",
            "Epoch: 17/36, Step 25/36| Inputs torch.Size([5, 13]) | Labels torch.Size([5])\n",
            "Epoch: 17/36, Step 30/36| Inputs torch.Size([5, 13]) | Labels torch.Size([5])\n",
            "Epoch: 17/36, Step 35/36| Inputs torch.Size([5, 13]) | Labels torch.Size([5])\n",
            "Epoch: 18/36, Step 5/36| Inputs torch.Size([5, 13]) | Labels torch.Size([5])\n",
            "Epoch: 18/36, Step 10/36| Inputs torch.Size([5, 13]) | Labels torch.Size([5])\n",
            "Epoch: 18/36, Step 15/36| Inputs torch.Size([5, 13]) | Labels torch.Size([5])\n",
            "Epoch: 18/36, Step 20/36| Inputs torch.Size([5, 13]) | Labels torch.Size([5])\n",
            "Epoch: 18/36, Step 25/36| Inputs torch.Size([5, 13]) | Labels torch.Size([5])\n",
            "Epoch: 18/36, Step 30/36| Inputs torch.Size([5, 13]) | Labels torch.Size([5])\n",
            "Epoch: 18/36, Step 35/36| Inputs torch.Size([5, 13]) | Labels torch.Size([5])\n",
            "Epoch: 19/36, Step 5/36| Inputs torch.Size([5, 13]) | Labels torch.Size([5])\n",
            "Epoch: 19/36, Step 10/36| Inputs torch.Size([5, 13]) | Labels torch.Size([5])\n",
            "Epoch: 19/36, Step 15/36| Inputs torch.Size([5, 13]) | Labels torch.Size([5])\n",
            "Epoch: 19/36, Step 20/36| Inputs torch.Size([5, 13]) | Labels torch.Size([5])\n",
            "Epoch: 19/36, Step 25/36| Inputs torch.Size([5, 13]) | Labels torch.Size([5])\n",
            "Epoch: 19/36, Step 30/36| Inputs torch.Size([5, 13]) | Labels torch.Size([5])\n",
            "Epoch: 19/36, Step 35/36| Inputs torch.Size([5, 13]) | Labels torch.Size([5])\n",
            "Epoch: 20/36, Step 5/36| Inputs torch.Size([5, 13]) | Labels torch.Size([5])\n",
            "Epoch: 20/36, Step 10/36| Inputs torch.Size([5, 13]) | Labels torch.Size([5])\n",
            "Epoch: 20/36, Step 15/36| Inputs torch.Size([5, 13]) | Labels torch.Size([5])\n",
            "Epoch: 20/36, Step 20/36| Inputs torch.Size([5, 13]) | Labels torch.Size([5])\n",
            "Epoch: 20/36, Step 25/36| Inputs torch.Size([5, 13]) | Labels torch.Size([5])\n",
            "Epoch: 20/36, Step 30/36| Inputs torch.Size([5, 13]) | Labels torch.Size([5])\n",
            "Epoch: 20/36, Step 35/36| Inputs torch.Size([5, 13]) | Labels torch.Size([5])\n",
            "Epoch: 21/36, Step 5/36| Inputs torch.Size([5, 13]) | Labels torch.Size([5])\n",
            "Epoch: 21/36, Step 10/36| Inputs torch.Size([5, 13]) | Labels torch.Size([5])\n",
            "Epoch: 21/36, Step 15/36| Inputs torch.Size([5, 13]) | Labels torch.Size([5])\n",
            "Epoch: 21/36, Step 20/36| Inputs torch.Size([5, 13]) | Labels torch.Size([5])\n",
            "Epoch: 21/36, Step 25/36| Inputs torch.Size([5, 13]) | Labels torch.Size([5])\n",
            "Epoch: 21/36, Step 30/36| Inputs torch.Size([5, 13]) | Labels torch.Size([5])\n",
            "Epoch: 21/36, Step 35/36| Inputs torch.Size([5, 13]) | Labels torch.Size([5])\n",
            "Epoch: 22/36, Step 5/36| Inputs torch.Size([5, 13]) | Labels torch.Size([5])\n",
            "Epoch: 22/36, Step 10/36| Inputs torch.Size([5, 13]) | Labels torch.Size([5])\n",
            "Epoch: 22/36, Step 15/36| Inputs torch.Size([5, 13]) | Labels torch.Size([5])\n",
            "Epoch: 22/36, Step 20/36| Inputs torch.Size([5, 13]) | Labels torch.Size([5])\n",
            "Epoch: 22/36, Step 25/36| Inputs torch.Size([5, 13]) | Labels torch.Size([5])\n",
            "Epoch: 22/36, Step 30/36| Inputs torch.Size([5, 13]) | Labels torch.Size([5])\n",
            "Epoch: 22/36, Step 35/36| Inputs torch.Size([5, 13]) | Labels torch.Size([5])\n",
            "Epoch: 23/36, Step 5/36| Inputs torch.Size([5, 13]) | Labels torch.Size([5])\n",
            "Epoch: 23/36, Step 10/36| Inputs torch.Size([5, 13]) | Labels torch.Size([5])\n",
            "Epoch: 23/36, Step 15/36| Inputs torch.Size([5, 13]) | Labels torch.Size([5])\n",
            "Epoch: 23/36, Step 20/36| Inputs torch.Size([5, 13]) | Labels torch.Size([5])\n",
            "Epoch: 23/36, Step 25/36| Inputs torch.Size([5, 13]) | Labels torch.Size([5])\n",
            "Epoch: 23/36, Step 30/36| Inputs torch.Size([5, 13]) | Labels torch.Size([5])\n",
            "Epoch: 23/36, Step 35/36| Inputs torch.Size([5, 13]) | Labels torch.Size([5])\n",
            "Epoch: 24/36, Step 5/36| Inputs torch.Size([5, 13]) | Labels torch.Size([5])\n",
            "Epoch: 24/36, Step 10/36| Inputs torch.Size([5, 13]) | Labels torch.Size([5])\n",
            "Epoch: 24/36, Step 15/36| Inputs torch.Size([5, 13]) | Labels torch.Size([5])\n",
            "Epoch: 24/36, Step 20/36| Inputs torch.Size([5, 13]) | Labels torch.Size([5])\n",
            "Epoch: 24/36, Step 25/36| Inputs torch.Size([5, 13]) | Labels torch.Size([5])\n",
            "Epoch: 24/36, Step 30/36| Inputs torch.Size([5, 13]) | Labels torch.Size([5])\n",
            "Epoch: 24/36, Step 35/36| Inputs torch.Size([5, 13]) | Labels torch.Size([5])\n",
            "Epoch: 25/36, Step 5/36| Inputs torch.Size([5, 13]) | Labels torch.Size([5])\n",
            "Epoch: 25/36, Step 10/36| Inputs torch.Size([5, 13]) | Labels torch.Size([5])\n",
            "Epoch: 25/36, Step 15/36| Inputs torch.Size([5, 13]) | Labels torch.Size([5])\n",
            "Epoch: 25/36, Step 20/36| Inputs torch.Size([5, 13]) | Labels torch.Size([5])\n",
            "Epoch: 25/36, Step 25/36| Inputs torch.Size([5, 13]) | Labels torch.Size([5])\n",
            "Epoch: 25/36, Step 30/36| Inputs torch.Size([5, 13]) | Labels torch.Size([5])\n",
            "Epoch: 25/36, Step 35/36| Inputs torch.Size([5, 13]) | Labels torch.Size([5])\n",
            "Epoch: 26/36, Step 5/36| Inputs torch.Size([5, 13]) | Labels torch.Size([5])\n",
            "Epoch: 26/36, Step 10/36| Inputs torch.Size([5, 13]) | Labels torch.Size([5])\n",
            "Epoch: 26/36, Step 15/36| Inputs torch.Size([5, 13]) | Labels torch.Size([5])\n",
            "Epoch: 26/36, Step 20/36| Inputs torch.Size([5, 13]) | Labels torch.Size([5])\n",
            "Epoch: 26/36, Step 25/36| Inputs torch.Size([5, 13]) | Labels torch.Size([5])\n",
            "Epoch: 26/36, Step 30/36| Inputs torch.Size([5, 13]) | Labels torch.Size([5])\n",
            "Epoch: 26/36, Step 35/36| Inputs torch.Size([5, 13]) | Labels torch.Size([5])\n",
            "Epoch: 27/36, Step 5/36| Inputs torch.Size([5, 13]) | Labels torch.Size([5])\n",
            "Epoch: 27/36, Step 10/36| Inputs torch.Size([5, 13]) | Labels torch.Size([5])\n",
            "Epoch: 27/36, Step 15/36| Inputs torch.Size([5, 13]) | Labels torch.Size([5])\n",
            "Epoch: 27/36, Step 20/36| Inputs torch.Size([5, 13]) | Labels torch.Size([5])\n",
            "Epoch: 27/36, Step 25/36| Inputs torch.Size([5, 13]) | Labels torch.Size([5])\n",
            "Epoch: 27/36, Step 30/36| Inputs torch.Size([5, 13]) | Labels torch.Size([5])\n",
            "Epoch: 27/36, Step 35/36| Inputs torch.Size([5, 13]) | Labels torch.Size([5])\n",
            "Epoch: 28/36, Step 5/36| Inputs torch.Size([5, 13]) | Labels torch.Size([5])\n",
            "Epoch: 28/36, Step 10/36| Inputs torch.Size([5, 13]) | Labels torch.Size([5])\n",
            "Epoch: 28/36, Step 15/36| Inputs torch.Size([5, 13]) | Labels torch.Size([5])\n",
            "Epoch: 28/36, Step 20/36| Inputs torch.Size([5, 13]) | Labels torch.Size([5])\n",
            "Epoch: 28/36, Step 25/36| Inputs torch.Size([5, 13]) | Labels torch.Size([5])\n",
            "Epoch: 28/36, Step 30/36| Inputs torch.Size([5, 13]) | Labels torch.Size([5])\n",
            "Epoch: 28/36, Step 35/36| Inputs torch.Size([5, 13]) | Labels torch.Size([5])\n",
            "Epoch: 29/36, Step 5/36| Inputs torch.Size([5, 13]) | Labels torch.Size([5])\n",
            "Epoch: 29/36, Step 10/36| Inputs torch.Size([5, 13]) | Labels torch.Size([5])\n",
            "Epoch: 29/36, Step 15/36| Inputs torch.Size([5, 13]) | Labels torch.Size([5])\n",
            "Epoch: 29/36, Step 20/36| Inputs torch.Size([5, 13]) | Labels torch.Size([5])\n",
            "Epoch: 29/36, Step 25/36| Inputs torch.Size([5, 13]) | Labels torch.Size([5])\n",
            "Epoch: 29/36, Step 30/36| Inputs torch.Size([5, 13]) | Labels torch.Size([5])\n",
            "Epoch: 29/36, Step 35/36| Inputs torch.Size([5, 13]) | Labels torch.Size([5])\n",
            "Epoch: 30/36, Step 5/36| Inputs torch.Size([5, 13]) | Labels torch.Size([5])\n",
            "Epoch: 30/36, Step 10/36| Inputs torch.Size([5, 13]) | Labels torch.Size([5])\n",
            "Epoch: 30/36, Step 15/36| Inputs torch.Size([5, 13]) | Labels torch.Size([5])\n",
            "Epoch: 30/36, Step 20/36| Inputs torch.Size([5, 13]) | Labels torch.Size([5])\n",
            "Epoch: 30/36, Step 25/36| Inputs torch.Size([5, 13]) | Labels torch.Size([5])\n",
            "Epoch: 30/36, Step 30/36| Inputs torch.Size([5, 13]) | Labels torch.Size([5])\n",
            "Epoch: 30/36, Step 35/36| Inputs torch.Size([5, 13]) | Labels torch.Size([5])\n",
            "Epoch: 31/36, Step 5/36| Inputs torch.Size([5, 13]) | Labels torch.Size([5])\n",
            "Epoch: 31/36, Step 10/36| Inputs torch.Size([5, 13]) | Labels torch.Size([5])\n",
            "Epoch: 31/36, Step 15/36| Inputs torch.Size([5, 13]) | Labels torch.Size([5])\n",
            "Epoch: 31/36, Step 20/36| Inputs torch.Size([5, 13]) | Labels torch.Size([5])\n",
            "Epoch: 31/36, Step 25/36| Inputs torch.Size([5, 13]) | Labels torch.Size([5])\n",
            "Epoch: 31/36, Step 30/36| Inputs torch.Size([5, 13]) | Labels torch.Size([5])\n",
            "Epoch: 31/36, Step 35/36| Inputs torch.Size([5, 13]) | Labels torch.Size([5])\n",
            "Epoch: 32/36, Step 5/36| Inputs torch.Size([5, 13]) | Labels torch.Size([5])\n",
            "Epoch: 32/36, Step 10/36| Inputs torch.Size([5, 13]) | Labels torch.Size([5])\n",
            "Epoch: 32/36, Step 15/36| Inputs torch.Size([5, 13]) | Labels torch.Size([5])\n",
            "Epoch: 32/36, Step 20/36| Inputs torch.Size([5, 13]) | Labels torch.Size([5])\n",
            "Epoch: 32/36, Step 25/36| Inputs torch.Size([5, 13]) | Labels torch.Size([5])\n",
            "Epoch: 32/36, Step 30/36| Inputs torch.Size([5, 13]) | Labels torch.Size([5])\n",
            "Epoch: 32/36, Step 35/36| Inputs torch.Size([5, 13]) | Labels torch.Size([5])\n",
            "Epoch: 33/36, Step 5/36| Inputs torch.Size([5, 13]) | Labels torch.Size([5])\n",
            "Epoch: 33/36, Step 10/36| Inputs torch.Size([5, 13]) | Labels torch.Size([5])\n",
            "Epoch: 33/36, Step 15/36| Inputs torch.Size([5, 13]) | Labels torch.Size([5])\n",
            "Epoch: 33/36, Step 20/36| Inputs torch.Size([5, 13]) | Labels torch.Size([5])\n",
            "Epoch: 33/36, Step 25/36| Inputs torch.Size([5, 13]) | Labels torch.Size([5])\n",
            "Epoch: 33/36, Step 30/36| Inputs torch.Size([5, 13]) | Labels torch.Size([5])\n",
            "Epoch: 33/36, Step 35/36| Inputs torch.Size([5, 13]) | Labels torch.Size([5])\n",
            "Epoch: 34/36, Step 5/36| Inputs torch.Size([5, 13]) | Labels torch.Size([5])\n",
            "Epoch: 34/36, Step 10/36| Inputs torch.Size([5, 13]) | Labels torch.Size([5])\n",
            "Epoch: 34/36, Step 15/36| Inputs torch.Size([5, 13]) | Labels torch.Size([5])\n",
            "Epoch: 34/36, Step 20/36| Inputs torch.Size([5, 13]) | Labels torch.Size([5])\n",
            "Epoch: 34/36, Step 25/36| Inputs torch.Size([5, 13]) | Labels torch.Size([5])\n",
            "Epoch: 34/36, Step 30/36| Inputs torch.Size([5, 13]) | Labels torch.Size([5])\n",
            "Epoch: 34/36, Step 35/36| Inputs torch.Size([5, 13]) | Labels torch.Size([5])\n",
            "Epoch: 35/36, Step 5/36| Inputs torch.Size([5, 13]) | Labels torch.Size([5])\n",
            "Epoch: 35/36, Step 10/36| Inputs torch.Size([5, 13]) | Labels torch.Size([5])\n",
            "Epoch: 35/36, Step 15/36| Inputs torch.Size([5, 13]) | Labels torch.Size([5])\n",
            "Epoch: 35/36, Step 20/36| Inputs torch.Size([5, 13]) | Labels torch.Size([5])\n",
            "Epoch: 35/36, Step 25/36| Inputs torch.Size([5, 13]) | Labels torch.Size([5])\n",
            "Epoch: 35/36, Step 30/36| Inputs torch.Size([5, 13]) | Labels torch.Size([5])\n",
            "Epoch: 35/36, Step 35/36| Inputs torch.Size([5, 13]) | Labels torch.Size([5])\n",
            "Epoch: 36/36, Step 5/36| Inputs torch.Size([5, 13]) | Labels torch.Size([5])\n",
            "Epoch: 36/36, Step 10/36| Inputs torch.Size([5, 13]) | Labels torch.Size([5])\n",
            "Epoch: 36/36, Step 15/36| Inputs torch.Size([5, 13]) | Labels torch.Size([5])\n",
            "Epoch: 36/36, Step 20/36| Inputs torch.Size([5, 13]) | Labels torch.Size([5])\n",
            "Epoch: 36/36, Step 25/36| Inputs torch.Size([5, 13]) | Labels torch.Size([5])\n",
            "Epoch: 36/36, Step 30/36| Inputs torch.Size([5, 13]) | Labels torch.Size([5])\n",
            "Epoch: 36/36, Step 35/36| Inputs torch.Size([5, 13]) | Labels torch.Size([5])\n"
          ]
        }
      ]
    },
    {
      "cell_type": "code",
      "source": [],
      "metadata": {
        "id": "HN18qpvYGGhI"
      },
      "execution_count": null,
      "outputs": []
    }
  ]
}