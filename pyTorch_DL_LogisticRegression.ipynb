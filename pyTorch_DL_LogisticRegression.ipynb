{
  "nbformat": 4,
  "nbformat_minor": 0,
  "metadata": {
    "colab": {
      "provenance": [],
      "authorship_tag": "ABX9TyOZywiZsMIlT3AzuyIOG6FP",
      "include_colab_link": true
    },
    "kernelspec": {
      "name": "python3",
      "display_name": "Python 3"
    },
    "language_info": {
      "name": "python"
    }
  },
  "cells": [
    {
      "cell_type": "markdown",
      "metadata": {
        "id": "view-in-github",
        "colab_type": "text"
      },
      "source": [
        "<a href=\"https://colab.research.google.com/github/Ezzaldin97/pytorch-coding/blob/main/pyTorch_DL_LogisticRegression.ipynb\" target=\"_parent\"><img src=\"https://colab.research.google.com/assets/colab-badge.svg\" alt=\"Open In Colab\"/></a>"
      ]
    },
    {
      "cell_type": "code",
      "execution_count": 1,
      "metadata": {
        "id": "B7QBbAmz50WN"
      },
      "outputs": [],
      "source": [
        "import torch\n",
        "import torch.nn as nn\n",
        "import numpy as np\n",
        "from sklearn import datasets\n",
        "from sklearn.preprocessing import StandardScaler\n",
        "from sklearn.model_selection import train_test_split"
      ]
    },
    {
      "cell_type": "code",
      "source": [
        "d = datasets.load_breast_cancer()\n",
        "X, y = d.data, d.target\n",
        "print(X.shape)\n",
        "print(np.unique(y))"
      ],
      "metadata": {
        "colab": {
          "base_uri": "https://localhost:8080/"
        },
        "id": "AkLZn6-D6PDD",
        "outputId": "2681b619-c8af-4fe8-9dbd-71c13f1ee16f"
      },
      "execution_count": 5,
      "outputs": [
        {
          "output_type": "stream",
          "name": "stdout",
          "text": [
            "(569, 30)\n",
            "[0 1]\n"
          ]
        }
      ]
    },
    {
      "cell_type": "code",
      "source": [
        "# Data Preprocessing...\n",
        "X_train, X_test, y_train, y_test = train_test_split(X, y, test_size = 0.15, random_state = 42)\n",
        "sc = StandardScaler()\n",
        "X_train_sc = sc.fit_transform(X_train)\n",
        "X_test_sc = sc.transform(X_test)\n",
        "X_train_sc = torch.from_numpy(X_train_sc.astype(np.float32))\n",
        "X_test_sc = torch.from_numpy(X_test_sc.astype(np.float32))\n",
        "y_train = torch.from_numpy(y_train.astype(np.float32))\n",
        "y_test = torch.from_numpy(y_test.astype(np.float32))\n",
        "y_train = y_train.view(y_train.shape[0], 1)\n",
        "y_test = y_test.view(y_test.shape[0], 1)"
      ],
      "metadata": {
        "id": "J2E0Ei5m6mAG"
      },
      "execution_count": 8,
      "outputs": []
    },
    {
      "cell_type": "code",
      "source": [
        "class LogisticRegression(nn.Module):\n",
        "  def __init__(self, input_data):\n",
        "    super(LogisticRegression, self).__init__()\n",
        "    self.lin = nn.Linear(input_data, 1)\n",
        "  def forward(self, X):\n",
        "    y_hat = torch.sigmoid(self.lin(X))\n",
        "    return y_hat"
      ],
      "metadata": {
        "id": "mhGgK6Wx72TA"
      },
      "execution_count": 9,
      "outputs": []
    },
    {
      "cell_type": "code",
      "source": [
        "model = LogisticRegression(X.shape[1])\n",
        "lr = 0.01\n",
        "loss = nn.BCELoss()\n",
        "opt = torch.optim.SGD(model.parameters(), lr = lr)\n",
        "epochs = 1000\n",
        "for _ in range(epochs):\n",
        "  y_hat = model(X_train_sc)\n",
        "  l = loss(y_hat, y_train)\n",
        "  l.backward()\n",
        "  opt.step()\n",
        "  opt.zero_grad()"
      ],
      "metadata": {
        "id": "ZCB3KgsG8vYx"
      },
      "execution_count": 12,
      "outputs": []
    },
    {
      "cell_type": "code",
      "source": [
        "with torch.no_grad():\n",
        "  preds = model(X_test_sc)\n",
        "  classes = preds.round()\n",
        "  accuracy = classes.eq(y_test).sum() / y_test.shape[0]\n",
        "  print(accuracy)"
      ],
      "metadata": {
        "colab": {
          "base_uri": "https://localhost:8080/"
        },
        "id": "yluW8xHw95EH",
        "outputId": "41d22ac3-8c77-43eb-870b-5421eae77c60"
      },
      "execution_count": 14,
      "outputs": [
        {
          "output_type": "stream",
          "name": "stdout",
          "text": [
            "tensor(0.9884)\n"
          ]
        }
      ]
    },
    {
      "cell_type": "code",
      "source": [],
      "metadata": {
        "id": "9fa_ar3r-tUq"
      },
      "execution_count": null,
      "outputs": []
    }
  ]
}