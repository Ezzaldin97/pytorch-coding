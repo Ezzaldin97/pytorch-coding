{
  "nbformat": 4,
  "nbformat_minor": 0,
  "metadata": {
    "colab": {
      "provenance": [],
      "authorship_tag": "ABX9TyO9FLhkSShBiWUyEJ8rvjwE",
      "include_colab_link": true
    },
    "kernelspec": {
      "name": "python3",
      "display_name": "Python 3"
    },
    "language_info": {
      "name": "python"
    },
    "accelerator": "GPU",
    "gpuClass": "standard"
  },
  "cells": [
    {
      "cell_type": "markdown",
      "metadata": {
        "id": "view-in-github",
        "colab_type": "text"
      },
      "source": [
        "<a href=\"https://colab.research.google.com/github/Ezzaldin97/pytorch-coding/blob/main/pyTorch_DL_NN.ipynb\" target=\"_parent\"><img src=\"https://colab.research.google.com/assets/colab-badge.svg\" alt=\"Open In Colab\"/></a>"
      ]
    },
    {
      "cell_type": "code",
      "execution_count": 1,
      "metadata": {
        "id": "ftcdUz_xGSjG"
      },
      "outputs": [],
      "source": [
        "import torch\n",
        "import torch.nn as nn\n",
        "import torchvision\n",
        "import pandas as pd\n",
        "import numpy as np\n",
        "from torch.utils.data import Dataset, DataLoader \n",
        "import matplotlib.pyplot as plt"
      ]
    },
    {
      "cell_type": "code",
      "source": [
        "device  = torch.device('cuda' if torch.cuda.is_available() else 'cpu')\n",
        "device"
      ],
      "metadata": {
        "colab": {
          "base_uri": "https://localhost:8080/"
        },
        "id": "4g5EYpQJGV5m",
        "outputId": "e068f985-e514-477f-e184-846530044441"
      },
      "execution_count": 20,
      "outputs": [
        {
          "output_type": "execute_result",
          "data": {
            "text/plain": [
              "device(type='cuda')"
            ]
          },
          "metadata": {},
          "execution_count": 20
        }
      ]
    },
    {
      "cell_type": "code",
      "source": [
        "INPUT_SIZE = 784\n",
        "HIDDEN_SIZE = 100\n",
        "CLASSES = 10\n",
        "EPOCHS = 10\n",
        "LR = 0.01\n",
        "BATCH_SIZE = 100"
      ],
      "metadata": {
        "id": "i_7EnW_sHCmW"
      },
      "execution_count": 4,
      "outputs": []
    },
    {
      "cell_type": "code",
      "source": [
        "train_data = torchvision.datasets.MNIST(root = \"./sample_data\", train = True,\n",
        "                                        transform = torchvision.transforms.ToTensor(),\n",
        "                                        download = True)\n",
        "test_data = torchvision.datasets.MNIST(root = \"./sample_data\", train = False,\n",
        "                                        transform = torchvision.transforms.ToTensor())\n",
        "train_loader = DataLoader(dataset = train_data,\n",
        "                          batch_size = BATCH_SIZE,\n",
        "                          shuffle = True)\n",
        "test_loader = DataLoader(dataset = test_data,\n",
        "                          batch_size = BATCH_SIZE,\n",
        "                          shuffle = False)\n",
        "examples = iter(train_loader)\n",
        "features, labels = next(examples)\n",
        "print(features.shape, labels.shape)"
      ],
      "metadata": {
        "colab": {
          "base_uri": "https://localhost:8080/"
        },
        "id": "GXmsOF1wHhDb",
        "outputId": "d0bfd43e-0ec6-430d-ba48-306d89e01d08"
      },
      "execution_count": 10,
      "outputs": [
        {
          "output_type": "stream",
          "name": "stdout",
          "text": [
            "torch.Size([100, 1, 28, 28]) torch.Size([100])\n"
          ]
        }
      ]
    },
    {
      "cell_type": "code",
      "source": [
        "for idx in range(10):\n",
        "  plt.subplot(2, 5, idx+1)\n",
        "  plt.imshow(features[idx][0], cmap = \"gray\")\n",
        "  plt.title(f\"Label is: {labels[idx]}\")"
      ],
      "metadata": {
        "colab": {
          "base_uri": "https://localhost:8080/",
          "height": 240
        },
        "id": "RT7_EAwXJfMp",
        "outputId": "31885044-7d89-479b-b0b3-c53f95b19f06"
      },
      "execution_count": 12,
      "outputs": [
        {
          "output_type": "display_data",
          "data": {
            "text/plain": [
              "<Figure size 432x288 with 10 Axes>"
            ],
            "image/png": "[encoded data removed]"
          },
          "metadata": {
            "needs_background": "light"
          }
        }
      ]
    },
    {
      "cell_type": "code",
      "source": [
        "class NN(nn.Module):\n",
        "  def __init__(self, hidden_size, in_size, n_classes):\n",
        "    super(NN, self).__init__()\n",
        "    self.l1 = nn.Linear(in_size, hidden_size)\n",
        "    self.relu = nn.ReLU()\n",
        "    self.l2 = nn.Linear(hidden_size, n_classes)\n",
        "  def forward(self, x):\n",
        "    out = self.l1(x)\n",
        "    out = self.relu(out)\n",
        "    out = self.l2(out)\n",
        "    return out"
      ],
      "metadata": {
        "id": "z2vdzwvKM9dt"
      },
      "execution_count": 33,
      "outputs": []
    },
    {
      "cell_type": "code",
      "source": [
        "model = NN(HIDDEN_SIZE, INPUT_SIZE, CLASSES).to(device)"
      ],
      "metadata": {
        "id": "59bdNvbYO8-L"
      },
      "execution_count": 34,
      "outputs": []
    },
    {
      "cell_type": "code",
      "source": [
        "loss = nn.CrossEntropyLoss()\n",
        "opt = torch.optim.Adam(model.parameters(), lr = LR)\n",
        "n_total_steps = len(train_loader)\n",
        "for epoch in range(EPOCHS):\n",
        "  for idx, (features, labels) in enumerate(train_loader):\n",
        "    # reshape image to 100, 784\n",
        "    features = features.reshape(-1, 28*28).to(device)\n",
        "    labels = labels.to(device)\n",
        "    outputs = model(features)\n",
        "    l = loss(outputs, labels)\n",
        "    opt.zero_grad()\n",
        "    l.backward()\n",
        "    opt.step()\n",
        "    if (idx+1) % 100 == 0:\n",
        "            print (f'Epoch [{epoch+1}/{EPOCHS}], Step [{idx+1}/{n_total_steps}], Loss: {l.item():.4f}')"
      ],
      "metadata": {
        "colab": {
          "base_uri": "https://localhost:8080/"
        },
        "id": "t88NdiTTPH83",
        "outputId": "b53191b1-322b-483f-db66-632823dfd9e7"
      },
      "execution_count": 35,
      "outputs": [
        {
          "output_type": "stream",
          "name": "stdout",
          "text": [
            "Epoch [1/10], Step [100/600], Loss: 0.1065\n",
            "Epoch [1/10], Step [200/600], Loss: 0.2298\n",
            "Epoch [1/10], Step [300/600], Loss: 0.1135\n",
            "Epoch [1/10], Step [400/600], Loss: 0.2268\n",
            "Epoch [1/10], Step [500/600], Loss: 0.1272\n",
            "Epoch [1/10], Step [600/600], Loss: 0.1546\n",
            "Epoch [2/10], Step [100/600], Loss: 0.0401\n",
            "Epoch [2/10], Step [200/600], Loss: 0.0601\n",
            "Epoch [2/10], Step [300/600], Loss: 0.0329\n",
            "Epoch [2/10], Step [400/600], Loss: 0.1611\n",
            "Epoch [2/10], Step [500/600], Loss: 0.1033\n",
            "Epoch [2/10], Step [600/600], Loss: 0.1460\n",
            "Epoch [3/10], Step [100/600], Loss: 0.1077\n",
            "Epoch [3/10], Step [200/600], Loss: 0.0846\n",
            "Epoch [3/10], Step [300/600], Loss: 0.1278\n",
            "Epoch [3/10], Step [400/600], Loss: 0.0493\n",
            "Epoch [3/10], Step [500/600], Loss: 0.0545\n",
            "Epoch [3/10], Step [600/600], Loss: 0.0889\n",
            "Epoch [4/10], Step [100/600], Loss: 0.1314\n",
            "Epoch [4/10], Step [200/600], Loss: 0.0523\n",
            "Epoch [4/10], Step [300/600], Loss: 0.3181\n",
            "Epoch [4/10], Step [400/600], Loss: 0.0671\n",
            "Epoch [4/10], Step [500/600], Loss: 0.0485\n",
            "Epoch [4/10], Step [600/600], Loss: 0.0724\n",
            "Epoch [5/10], Step [100/600], Loss: 0.0630\n",
            "Epoch [5/10], Step [200/600], Loss: 0.0149\n",
            "Epoch [5/10], Step [300/600], Loss: 0.0642\n",
            "Epoch [5/10], Step [400/600], Loss: 0.0423\n",
            "Epoch [5/10], Step [500/600], Loss: 0.0663\n",
            "Epoch [5/10], Step [600/600], Loss: 0.0208\n",
            "Epoch [6/10], Step [100/600], Loss: 0.0186\n",
            "Epoch [6/10], Step [200/600], Loss: 0.0125\n",
            "Epoch [6/10], Step [300/600], Loss: 0.0995\n",
            "Epoch [6/10], Step [400/600], Loss: 0.0079\n",
            "Epoch [6/10], Step [500/600], Loss: 0.1221\n",
            "Epoch [6/10], Step [600/600], Loss: 0.0667\n",
            "Epoch [7/10], Step [100/600], Loss: 0.0292\n",
            "Epoch [7/10], Step [200/600], Loss: 0.0406\n",
            "Epoch [7/10], Step [300/600], Loss: 0.0078\n",
            "Epoch [7/10], Step [400/600], Loss: 0.0796\n",
            "Epoch [7/10], Step [500/600], Loss: 0.0685\n",
            "Epoch [7/10], Step [600/600], Loss: 0.0337\n",
            "Epoch [8/10], Step [100/600], Loss: 0.0191\n",
            "Epoch [8/10], Step [200/600], Loss: 0.0302\n",
            "Epoch [8/10], Step [300/600], Loss: 0.0272\n",
            "Epoch [8/10], Step [400/600], Loss: 0.1043\n",
            "Epoch [8/10], Step [500/600], Loss: 0.0406\n",
            "Epoch [8/10], Step [600/600], Loss: 0.1165\n",
            "Epoch [9/10], Step [100/600], Loss: 0.1447\n",
            "Epoch [9/10], Step [200/600], Loss: 0.0643\n",
            "Epoch [9/10], Step [300/600], Loss: 0.0376\n",
            "Epoch [9/10], Step [400/600], Loss: 0.1072\n",
            "Epoch [9/10], Step [500/600], Loss: 0.0612\n",
            "Epoch [9/10], Step [600/600], Loss: 0.0346\n",
            "Epoch [10/10], Step [100/600], Loss: 0.1142\n",
            "Epoch [10/10], Step [200/600], Loss: 0.1672\n",
            "Epoch [10/10], Step [300/600], Loss: 0.0750\n",
            "Epoch [10/10], Step [400/600], Loss: 0.0150\n",
            "Epoch [10/10], Step [500/600], Loss: 0.0853\n",
            "Epoch [10/10], Step [600/600], Loss: 0.0882\n"
          ]
        }
      ]
    },
    {
      "cell_type": "code",
      "source": [
        "with torch.no_grad():\n",
        "  n_correct = 0; n_samples = 0\n",
        "  for features, labels in test_loader:\n",
        "    features = features.reshape(-1, 28*28).to(device)\n",
        "    labels = labels.to(device)\n",
        "    outputs = model(features)\n",
        "    _, predicted = torch.max(outputs, 1)\n",
        "    n_samples += labels.size(0)\n",
        "    n_correct += (predicted == labels).sum().item()\n",
        "  acc = n_correct / n_samples\n",
        "  print(f'{n_correct}, {n_samples},Accuracy of the network on the {n_samples} test images: {acc} %')"
      ],
      "metadata": {
        "colab": {
          "base_uri": "https://localhost:8080/"
        },
        "id": "YMuRNScuReKV",
        "outputId": "8b087c9b-78d8-4cff-a8c2-b9ab9f52f2bf"
      },
      "execution_count": 39,
      "outputs": [
        {
          "output_type": "stream",
          "name": "stdout",
          "text": [
            "9691, 10000,Accuracy of the network on the 10000 test images: 0.9691 %\n"
          ]
        }
      ]
    },
    {
      "cell_type": "code",
      "source": [],
      "metadata": {
        "id": "ADyE5yyZgcSt"
      },
      "execution_count": null,
      "outputs": []
    }
  ]
}