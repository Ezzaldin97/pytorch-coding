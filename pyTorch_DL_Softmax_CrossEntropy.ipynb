{
  "nbformat": 4,
  "nbformat_minor": 0,
  "metadata": {
    "colab": {
      "provenance": [],
      "authorship_tag": "ABX9TyMOrsmGwccpTw3l1dDr0i3b",
      "include_colab_link": true
    },
    "kernelspec": {
      "name": "python3",
      "display_name": "Python 3"
    },
    "language_info": {
      "name": "python"
    }
  },
  "cells": [
    {
      "cell_type": "markdown",
      "metadata": {
        "id": "view-in-github",
        "colab_type": "text"
      },
      "source": [
        "<a href=\"https://colab.research.google.com/github/Ezzaldin97/pytorch-coding/blob/main/pyTorch_DL_Softmax_CrossEntropy.ipynb\" target=\"_parent\"><img src=\"https://colab.research.google.com/assets/colab-badge.svg\" alt=\"Open In Colab\"/></a>"
      ]
    },
    {
      "cell_type": "code",
      "execution_count": 1,
      "metadata": {
        "id": "eGwzOBgs7_dx"
      },
      "outputs": [],
      "source": [
        "import torch\n",
        "import torch.nn as nn\n",
        "import torchvision\n",
        "import pandas as pd\n",
        "import numpy as np\n",
        "from torch.utils.data import Dataset, DataLoader "
      ]
    },
    {
      "cell_type": "code",
      "source": [
        "# softmax in torch..\n",
        "x = torch.tensor([0.3, 0.5, 0.2])\n",
        "z = torch.softmax(x, dim = 0)\n",
        "print(z)"
      ],
      "metadata": {
        "colab": {
          "base_uri": "https://localhost:8080/"
        },
        "id": "E1U2ZufX8uuU",
        "outputId": "657885e3-9b10-427a-a85b-a3856b5f945f"
      },
      "execution_count": 2,
      "outputs": [
        {
          "output_type": "stream",
          "name": "stdout",
          "text": [
            "tensor([0.3199, 0.3907, 0.2894])\n"
          ]
        }
      ]
    },
    {
      "cell_type": "code",
      "source": [
        "# cross entropy in torch..\n",
        "loss = nn.CrossEntropyLoss()\n",
        "# y value must be classes not on hot encoded (not like Tensorflow)\n",
        "y = torch.tensor([0])\n",
        "# y_preds dim must be n_samples * n_classes...\n",
        "y_pred1 = torch.tensor([[2.0, 1.0, 0.1]])\n",
        "y_pred2 = torch.tensor([[.5, 1.0, 0.9]])"
      ],
      "metadata": {
        "id": "wkJpJFzg9DpN"
      },
      "execution_count": 3,
      "outputs": []
    },
    {
      "cell_type": "code",
      "source": [
        "l1 = loss(y_pred1, y)\n",
        "l2 = loss(y_pred2, y)"
      ],
      "metadata": {
        "id": "Cyopz7kv--O_"
      },
      "execution_count": 4,
      "outputs": []
    },
    {
      "cell_type": "code",
      "source": [
        "print(l1.item(), l2.item())"
      ],
      "metadata": {
        "colab": {
          "base_uri": "https://localhost:8080/"
        },
        "id": "_HgujVvt_F8e",
        "outputId": "7c38d5aa-2ead-48be-8ae5-47a5dccfad8d"
      },
      "execution_count": 5,
      "outputs": [
        {
          "output_type": "stream",
          "name": "stdout",
          "text": [
            "0.4170299470424652 1.4208276271820068\n"
          ]
        }
      ]
    },
    {
      "cell_type": "code",
      "source": [
        "# take the argmax value the value that comes from predictions....\n",
        "_, pred1 = torch.max(y_pred1, 1)\n",
        "_, pred2 = torch.max(y_pred2, 1)\n",
        "print(pred1, pred2)"
      ],
      "metadata": {
        "colab": {
          "base_uri": "https://localhost:8080/"
        },
        "id": "6H1Ui8E-_Mz0",
        "outputId": "8d1ec515-1ab4-4219-eebf-47ab64261db2"
      },
      "execution_count": 6,
      "outputs": [
        {
          "output_type": "stream",
          "name": "stdout",
          "text": [
            "tensor([0]) tensor([1])\n"
          ]
        }
      ]
    },
    {
      "cell_type": "code",
      "source": [
        "# use nn.CrossEntropyLoss at the end (not nn.softmax)\n",
        "# binary classification\n",
        "# Binary classification\n",
        "class NeuralNet1(nn.Module):\n",
        "    def __init__(self, input_size, hidden_size):\n",
        "        super(NeuralNet1, self).__init__()\n",
        "        self.linear1 = nn.Linear(input_size, hidden_size) \n",
        "        self.relu = nn.ReLU()\n",
        "        self.linear2 = nn.Linear(hidden_size, 1)  \n",
        "    \n",
        "    def forward(self, x):\n",
        "        out = self.linear1(x)\n",
        "        out = self.relu(out)\n",
        "        out = self.linear2(out)\n",
        "        # sigmoid at the end\n",
        "        y_pred = torch.sigmoid(out)\n",
        "        return y_pred\n",
        "\n",
        "model = NeuralNet1(input_size=28*28, hidden_size=5)\n",
        "criterion = nn.BCELoss()"
      ],
      "metadata": {
        "id": "D1wX5vOV_p3h"
      },
      "execution_count": 7,
      "outputs": []
    },
    {
      "cell_type": "code",
      "source": [
        "# multiclass\n",
        "class NeuralNet2(nn.Module):\n",
        "    def __init__(self, input_size, hidden_size, num_classes):\n",
        "        super(NeuralNet2, self).__init__()\n",
        "        self.linear1 = nn.Linear(input_size, hidden_size) \n",
        "        self.relu = nn.ReLU()\n",
        "        self.linear2 = nn.Linear(hidden_size, num_classes)  \n",
        "    \n",
        "    def forward(self, x):\n",
        "        out = self.linear1(x)\n",
        "        out = self.relu(out)\n",
        "        out = self.linear2(out)\n",
        "        # no softmax at the end\n",
        "        return out\n",
        "\n",
        "model = NeuralNet2(input_size=28*28, hidden_size=5, num_classes=3)\n",
        "criterion = nn.CrossEntropyLoss()  # (applies Softmax)"
      ],
      "metadata": {
        "id": "zuLSllSUBnI8"
      },
      "execution_count": 8,
      "outputs": []
    },
    {
      "cell_type": "code",
      "source": [],
      "metadata": {
        "id": "SxPamjZTBw5T"
      },
      "execution_count": null,
      "outputs": []
    }
  ]
}