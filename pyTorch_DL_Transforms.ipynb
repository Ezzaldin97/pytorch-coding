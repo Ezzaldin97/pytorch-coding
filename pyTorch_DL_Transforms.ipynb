{
  "nbformat": 4,
  "nbformat_minor": 0,
  "metadata": {
    "colab": {
      "provenance": [],
      "authorship_tag": "ABX9TyMs25jja8rT7sYoKL5PaV1T",
      "include_colab_link": true
    },
    "kernelspec": {
      "name": "python3",
      "display_name": "Python 3"
    },
    "language_info": {
      "name": "python"
    }
  },
  "cells": [
    {
      "cell_type": "markdown",
      "metadata": {
        "id": "view-in-github",
        "colab_type": "text"
      },
      "source": [
        "<a href=\"https://colab.research.google.com/github/Ezzaldin97/pytorch-coding/blob/main/pyTorch_DL_Transforms.ipynb\" target=\"_parent\"><img src=\"https://colab.research.google.com/assets/colab-badge.svg\" alt=\"Open In Colab\"/></a>"
      ]
    },
    {
      "cell_type": "code",
      "execution_count": 12,
      "metadata": {
        "id": "EPF1Caw2lpek"
      },
      "outputs": [],
      "source": [
        "import torch\n",
        "import torchvision\n",
        "import pandas as pd\n",
        "import numpy as np\n",
        "from torch.utils.data import Dataset, DataLoader "
      ]
    },
    {
      "cell_type": "code",
      "source": [
        "# transforms in torch\n",
        "# on images : CenterCrop, Grayscale, Pad, RandomAffine, RandomCrop, RandomHorizontalFlip, RandomRotation, Resize, Scale\n",
        "# on Tensors : LinearTransformation, Normalize, RandomErasing\n",
        "# Conversion: ToPILImage, ToTensor\n",
        "# multiple Transformation using compose: transforms.Compose()\n",
        "class HouseDataset(Dataset):\n",
        "  def __init__(self, transform = None):\n",
        "    df = pd.read_csv(\"/content/sample_data/california_housing_train.csv\")\n",
        "    self.X = df.drop(\"median_house_value\", axis = 1).values.astype(np.float32)\n",
        "    self.y = df[\"median_house_value\"].values.reshape(1, -1).astype(np.float32)\n",
        "    self.n_samples = df.shape[0]\n",
        "    self.transform = transform\n",
        "  def __getitem__(self, idx):\n",
        "    sample = self.X[idx], self.y[idx]\n",
        "    if self.transform:\n",
        "      sample = self.transform(sample)\n",
        "    return sample\n",
        "  def __len__(self):\n",
        "    return self.n_samples\n",
        "# custom transform to convert numpy array to Tensor\n",
        "class ToTensor:\n",
        "  def __call__(self, sample):\n",
        "    inputs, target = sample\n",
        "    return torch.from_numpy(inputs), torch.from_numpy(target)\n",
        "# custom transform to multiply factor by array/Tensor...\n",
        "class MulTransform:\n",
        "  def __init__(self, factor):\n",
        "    self.factor = factor\n",
        "  def __call__(self, sample):\n",
        "    inputs, target = sample\n",
        "    inputs *= self.factor\n",
        "    return inputs, target"
      ],
      "metadata": {
        "id": "Et9beV0hxFuJ"
      },
      "execution_count": 21,
      "outputs": []
    },
    {
      "cell_type": "code",
      "source": [
        "transformer = torchvision.transforms.Compose([\n",
        "    ToTensor(), MulTransform(0.01)\n",
        "])"
      ],
      "metadata": {
        "id": "4qVma14J11M5"
      },
      "execution_count": 24,
      "outputs": []
    },
    {
      "cell_type": "code",
      "source": [
        "data = HouseDataset(transform = transformer)\n",
        "first_data = data[0]\n",
        "features, labels = first_data\n",
        "print(features)\n",
        "print(type(features), type(labels))"
      ],
      "metadata": {
        "colab": {
          "base_uri": "https://localhost:8080/"
        },
        "id": "eH-Ny7zb2_DN",
        "outputId": "3d902874-cf2a-45eb-b541-bbf6ef53d9cf"
      },
      "execution_count": 27,
      "outputs": [
        {
          "output_type": "stream",
          "name": "stdout",
          "text": [
            "tensor([-1.1431e+00,  3.4190e-01,  1.5000e-01,  5.6120e+01,  1.2830e+01,\n",
            "         1.0150e+01,  4.7200e+00,  1.4936e-02])\n",
            "<class 'torch.Tensor'> <class 'torch.Tensor'>\n"
          ]
        }
      ]
    },
    {
      "cell_type": "code",
      "source": [],
      "metadata": {
        "id": "mxeXIXak7lEw"
      },
      "execution_count": null,
      "outputs": []
    }
  ]
}