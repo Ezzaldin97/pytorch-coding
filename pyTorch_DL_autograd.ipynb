{
  "nbformat": 4,
  "nbformat_minor": 0,
  "metadata": {
    "colab": {
      "provenance": [],
      "authorship_tag": "ABX9TyMdsOnNSAvxKQrNdCruPuY/",
      "include_colab_link": true
    },
    "kernelspec": {
      "name": "python3",
      "display_name": "Python 3"
    },
    "language_info": {
      "name": "python"
    }
  },
  "cells": [
    {
      "cell_type": "markdown",
      "metadata": {
        "id": "view-in-github",
        "colab_type": "text"
      },
      "source": [
        "<a href=\"https://colab.research.google.com/github/Ezzaldin97/pytorch-coding/blob/main/pyTorch_DL_autograd.ipynb\" target=\"_parent\"><img src=\"https://colab.research.google.com/assets/colab-badge.svg\" alt=\"Open In Colab\"/></a>"
      ]
    },
    {
      "cell_type": "code",
      "execution_count": 1,
      "metadata": {
        "id": "r3K1lUbEX60V"
      },
      "outputs": [],
      "source": [
        "import torch"
      ]
    },
    {
      "cell_type": "code",
      "source": [
        "x = torch.randn(2, 3, requires_grad = True)\n",
        "print(x)"
      ],
      "metadata": {
        "colab": {
          "base_uri": "https://localhost:8080/"
        },
        "id": "qzXCjNVFYCrX",
        "outputId": "65069f52-6149-4030-bae1-a7233b37ff7f"
      },
      "execution_count": 32,
      "outputs": [
        {
          "output_type": "stream",
          "name": "stdout",
          "text": [
            "tensor([[-1.0580,  2.0594, -0.0662],\n",
            "        [-0.1583, -1.0457,  1.0989]], requires_grad=True)\n"
          ]
        }
      ]
    },
    {
      "cell_type": "code",
      "source": [
        "y = torch.add(x, 2)\n",
        "y"
      ],
      "metadata": {
        "colab": {
          "base_uri": "https://localhost:8080/"
        },
        "id": "vDO5n5TVYOdI",
        "outputId": "56305be1-bc64-4d1f-cfb9-160580a6be0e"
      },
      "execution_count": 33,
      "outputs": [
        {
          "output_type": "execute_result",
          "data": {
            "text/plain": [
              "tensor([[0.9420, 4.0594, 1.9338],\n",
              "        [1.8417, 0.9543, 3.0989]], grad_fn=<AddBackward0>)"
            ]
          },
          "metadata": {},
          "execution_count": 33
        }
      ]
    },
    {
      "cell_type": "code",
      "source": [
        "# forward\n",
        "z = x * x * 2\n",
        "z"
      ],
      "metadata": {
        "colab": {
          "base_uri": "https://localhost:8080/"
        },
        "id": "HYWp9HcLYafd",
        "outputId": "ef37114f-032a-48c0-e7d0-236268acb43d"
      },
      "execution_count": 34,
      "outputs": [
        {
          "output_type": "execute_result",
          "data": {
            "text/plain": [
              "tensor([[2.2387, 8.4821, 0.0088],\n",
              "        [0.0501, 2.1871, 2.4152]], grad_fn=<MulBackward0>)"
            ]
          },
          "metadata": {},
          "execution_count": 34
        }
      ]
    },
    {
      "cell_type": "code",
      "source": [
        "# grad can be created for scalar outputs....\n",
        "# create a Tensor v\n",
        "v = torch.tensor([[0.1, 0.001, 1.0],[1.0, 0.0001, 0.1]], dtype = torch.float32)\n",
        "z.backward(v) #dz/dx\n",
        "print(x.grad) "
      ],
      "metadata": {
        "colab": {
          "base_uri": "https://localhost:8080/"
        },
        "id": "k_H1WN9KY9-U",
        "outputId": "cfefd725-da04-4f49-8b9d-3d1c3e5ef93c"
      },
      "execution_count": 35,
      "outputs": [
        {
          "output_type": "stream",
          "name": "stdout",
          "text": [
            "tensor([[-4.2320e-01,  8.2375e-03, -2.6488e-01],\n",
            "        [-6.3333e-01, -4.1829e-04,  4.3956e-01]])\n"
          ]
        }
      ]
    },
    {
      "cell_type": "code",
      "source": [
        "# prevent error while optimization\n",
        "# x.requires_grad_(False)\n",
        "# x.detach()\n",
        "# with\n",
        "x = torch.randn(2, 3, requires_grad = True)\n",
        "print(x)\n",
        "x.requires_grad_(False)\n",
        "x"
      ],
      "metadata": {
        "colab": {
          "base_uri": "https://localhost:8080/"
        },
        "id": "qcYo8HQqZSbo",
        "outputId": "822f784c-ec01-483d-e492-0204062e8ebb"
      },
      "execution_count": 38,
      "outputs": [
        {
          "output_type": "stream",
          "name": "stdout",
          "text": [
            "tensor([[-1.6357, -0.9596, -0.2488],\n",
            "        [-0.7869, -0.4407, -1.4513]], requires_grad=True)\n"
          ]
        },
        {
          "output_type": "execute_result",
          "data": {
            "text/plain": [
              "tensor([[-1.6357, -0.9596, -0.2488],\n",
              "        [-0.7869, -0.4407, -1.4513]])"
            ]
          },
          "metadata": {},
          "execution_count": 38
        }
      ]
    },
    {
      "cell_type": "code",
      "source": [
        "x = torch.randn(2, 3, requires_grad = True)\n",
        "print(x)\n",
        "print(x.detach())"
      ],
      "metadata": {
        "colab": {
          "base_uri": "https://localhost:8080/"
        },
        "id": "46eHAGZkcPMU",
        "outputId": "1503739a-6092-4202-abaf-3c6997802839"
      },
      "execution_count": 37,
      "outputs": [
        {
          "output_type": "stream",
          "name": "stdout",
          "text": [
            "tensor([[ 0.0042, -1.8086, -1.1950],\n",
            "        [-0.5712,  0.0036, -2.1034]], requires_grad=True)\n",
            "tensor([[ 0.0042, -1.8086, -1.1950],\n",
            "        [-0.5712,  0.0036, -2.1034]])\n"
          ]
        }
      ]
    },
    {
      "cell_type": "code",
      "source": [
        "x = torch.randn(2, 3, requires_grad = True)\n",
        "print(x)\n",
        "with torch.no_grad():\n",
        "  y = x + 2\n",
        "  print(y)"
      ],
      "metadata": {
        "colab": {
          "base_uri": "https://localhost:8080/"
        },
        "id": "ul6pF6s0cfHR",
        "outputId": "1ec51d72-c2a5-4505-c2f2-d6037848d82d"
      },
      "execution_count": 40,
      "outputs": [
        {
          "output_type": "stream",
          "name": "stdout",
          "text": [
            "tensor([[-0.3038,  0.0337, -1.2638],\n",
            "        [ 0.4875,  1.4212,  0.1066]], requires_grad=True)\n",
            "tensor([[1.6962, 2.0337, 0.7362],\n",
            "        [2.4875, 3.4212, 2.1066]])\n"
          ]
        }
      ]
    },
    {
      "cell_type": "code",
      "source": [
        "# create training example..\n",
        "# preventing weights history by apply grad.zero_()\n",
        "weights = torch.ones(4, requires_grad = True)\n",
        "for epoch in range(2):\n",
        "  model_output = (weights * 3).sum()\n",
        "  model_output.backward()\n",
        "  print(weights.grad)\n",
        "  weights.grad.zero_()"
      ],
      "metadata": {
        "colab": {
          "base_uri": "https://localhost:8080/"
        },
        "id": "5F_OFkUZcsQa",
        "outputId": "29f63747-0944-45b6-faab-ce78397cd35f"
      },
      "execution_count": 42,
      "outputs": [
        {
          "output_type": "stream",
          "name": "stdout",
          "text": [
            "tensor([3., 3., 3., 3.])\n",
            "tensor([3., 3., 3., 3.])\n"
          ]
        }
      ]
    }
  ]
}