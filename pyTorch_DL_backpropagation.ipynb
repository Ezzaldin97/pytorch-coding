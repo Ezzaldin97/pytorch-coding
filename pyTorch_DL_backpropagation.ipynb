{
  "nbformat": 4,
  "nbformat_minor": 0,
  "metadata": {
    "colab": {
      "provenance": [],
      "authorship_tag": "ABX9TyP2M9lVp2Fpe+8eo5nw7roY",
      "include_colab_link": true
    },
    "kernelspec": {
      "name": "python3",
      "display_name": "Python 3"
    },
    "language_info": {
      "name": "python"
    }
  },
  "cells": [
    {
      "cell_type": "markdown",
      "metadata": {
        "id": "view-in-github",
        "colab_type": "text"
      },
      "source": [
        "<a href=\"https://colab.research.google.com/github/Ezzaldin97/pytorch-coding/blob/main/pyTorch_DL_backpropagation.ipynb\" target=\"_parent\"><img src=\"https://colab.research.google.com/assets/colab-badge.svg\" alt=\"Open In Colab\"/></a>"
      ]
    },
    {
      "cell_type": "code",
      "execution_count": 1,
      "metadata": {
        "id": "_BwRxlRlf4zS"
      },
      "outputs": [],
      "source": [
        "import torch"
      ]
    },
    {
      "cell_type": "code",
      "source": [
        "# for each operation Torch create a computational graph for us\n",
        "# Forward pass --> compute loss\n",
        "# Local Gradients\n",
        "# compute backpropagation (Chain Rule)\n",
        "# update weights...\n",
        "x = torch.tensor(1.0)\n",
        "y = torch.tensor(25.0)\n",
        "\n",
        "weights = torch.tensor(1.0, requires_grad = True)\n",
        "# forward pass/ compute loss\n",
        "y_hat = weights * x\n",
        "loss = (y_hat - y)**2\n",
        "print(loss)\n",
        "# compute backward pass\n",
        "# compute grad\n",
        "loss.backward()\n",
        "print(weights.grad)\n",
        "\n",
        "# update weights\n",
        "# compute next forward pass."
      ],
      "metadata": {
        "colab": {
          "base_uri": "https://localhost:8080/"
        },
        "id": "a_Gmaggwgf2E",
        "outputId": "9e185ad6-6700-4a91-f059-c7fc67b74dd3"
      },
      "execution_count": 4,
      "outputs": [
        {
          "output_type": "stream",
          "name": "stdout",
          "text": [
            "tensor(576., grad_fn=<PowBackward0>)\n",
            "tensor(-48.)\n"
          ]
        }
      ]
    },
    {
      "cell_type": "code",
      "source": [],
      "metadata": {
        "id": "e0UHQZeoi80o"
      },
      "execution_count": null,
      "outputs": []
    }
  ]
}